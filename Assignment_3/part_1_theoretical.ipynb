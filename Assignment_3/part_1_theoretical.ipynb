{
 "cells": [
  {
   "cell_type": "code",
   "execution_count": 5,
   "metadata": {},
   "outputs": [],
   "source": [
    "import numpy as np\n",
    "\n",
    "# From Assignment\n",
    "eta = 1\n",
    "omega_K = 0.05 * 2 * np.pi      # From table 0.05 Hz -> [rad/s]\n",
    "omega_k = 0.06 * 2 * np.pi      # From table 0.05 Hz -> [rad/s]\n",
    "zeta = 0.70                     # From table 70%\n",
    "\n",
    "# From HAWC2S\n",
    "I = 0.192530E+09                         # From HAWC2 results:   I = (I_r + ng**2 * Ig )\n",
    "dQ_dTheta = -10111.65232e3 * 180/np.pi   # From HAWC2S: [Nm/deg] -> [Nm/rad]\n",
    "dQ_dOMEGA = 0                            # From slides\n",
    "\n",
    "\n",
    "\n",
    "# Not sure about these ????????????????????????????????????\n",
    "p_r = 10.638e6                      # Rated power [Watt]\n",
    "omega_r = 8.036 / 60 * 2 *  np.pi   # Omega rated [RPM] -> [rad/s]\n",
    "dQ_g_dOMEGA = -p_r/omega_r**2"
   ]
  },
  {
   "attachments": {},
   "cell_type": "markdown",
   "metadata": {},
   "source": [
    "# Torque controller: $K_{Pg}$ [Nm/(rad/s)] & $K_{Ig}$ [Nm/rad] "
   ]
  },
  {
   "cell_type": "code",
   "execution_count": 6,
   "metadata": {},
   "outputs": [
    {
     "name": "stdout",
     "output_type": "stream",
     "text": [
      "K_Pg = 84679116.70339\n",
      "K_Ig = 19001949.35341734\n"
     ]
    }
   ],
   "source": [
    "K_Pg = eta * (2*I*omega_K*zeta + dQ_dOMEGA)\n",
    "K_Ig = eta * I * omega_K**2\n",
    "\n",
    "print(f'K_Pg = {K_Pg}')\n",
    "print(f'K_Ig = {K_Ig}')"
   ]
  },
  {
   "attachments": {},
   "cell_type": "markdown",
   "metadata": {},
   "source": [
    "# Pitch controller: $k_P$ [rad/(rad/s)] & $k_I$ [rad/rad] (WRONG VALUES??)"
   ]
  },
  {
   "cell_type": "code",
   "execution_count": 7,
   "metadata": {},
   "outputs": [
    {
     "name": "stdout",
     "output_type": "stream",
     "text": [
      "k_P = 0.20132176548041986\n",
      "k_I = 0.04722977618564418\n"
     ]
    }
   ],
   "source": [
    "k_P = (2*zeta*omega_k*I + dQ_dOMEGA - 1/eta * dQ_g_dOMEGA) / (-dQ_dTheta)\n",
    "k_I = omega_k**2 * I / (-dQ_dTheta)\n",
    "\n",
    "print(f'k_P = {k_P}')\n",
    "print(f'k_I = {k_I}')"
   ]
  }
 ],
 "metadata": {
  "kernelspec": {
   "display_name": "base",
   "language": "python",
   "name": "python3"
  },
  "language_info": {
   "codemirror_mode": {
    "name": "ipython",
    "version": 3
   },
   "file_extension": ".py",
   "mimetype": "text/x-python",
   "name": "python",
   "nbconvert_exporter": "python",
   "pygments_lexer": "ipython3",
   "version": "3.11.4"
  },
  "orig_nbformat": 4
 },
 "nbformat": 4,
 "nbformat_minor": 2
}
