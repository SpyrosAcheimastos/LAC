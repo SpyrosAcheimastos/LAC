{
 "cells": [
  {
   "cell_type": "code",
   "execution_count": 1,
   "metadata": {},
   "outputs": [],
   "source": [
    "import numpy as np\n",
    "\n",
    "# From Assignment\n",
    "eta = 1\n",
    "omega_K = 0.05 * 2 * np.pi      # From table 0.05 Hz -> [rad/s]\n",
    "omega_k = 0.06 * 2 * np.pi      # From table 0.05 Hz -> [rad/s]\n",
    "zeta = 0.70                     # From table 70%\n",
    "\n",
    "# From HAWC2S\n",
    "I = 0.192530E+09                         # From HAWC2 results:   I = (I_r + ng**2 * Ig )\n",
    "dQ_dTheta = -1011.65232e3 * 180/np.pi   # From HAWC2S: [Nm/deg] -> [Nm/rad]\n",
    "dQ_dOMEGA = 0                            # From slides\n",
    "\n",
    "\n",
    "\n",
    "# Values for our wind turbine\n",
    "p_r = 10.638e6                      # Rated power [Watt]\n",
    "omega_r = 8.036 / 60 * 2 *  np.pi   # Omega rated [RPM] -> [rad/s]\n",
    "dQ_g_dOMEGA = -p_r/omega_r**2"
   ]
  },
  {
   "attachments": {},
   "cell_type": "markdown",
   "metadata": {},
   "source": [
    "# Torque controller: $K_{Pg}$ [Nm/(rad/s)] & $K_{Ig}$ [Nm/rad] "
   ]
  },
  {
   "cell_type": "code",
   "execution_count": 2,
   "metadata": {},
   "outputs": [
    {
     "name": "stdout",
     "output_type": "stream",
     "text": [
      "K_Pg = 84679116.70339\n",
      "K_Ig = 19001949.35341734\n"
     ]
    }
   ],
   "source": [
    "K_Pg = eta * (2*I*omega_K*zeta + dQ_dOMEGA)\n",
    "K_Ig = eta * I * omega_K**2\n",
    "\n",
    "print(f'K_Pg = {K_Pg}')\n",
    "print(f'K_Ig = {K_Ig}')"
   ]
  },
  {
   "attachments": {},
   "cell_type": "markdown",
   "metadata": {},
   "source": [
    "# Pitch controller: $k_P$ [rad/(rad/s)] & $k_I$ [rad/rad] (WRONG VALUES??)"
   ]
  },
  {
   "cell_type": "code",
   "execution_count": 3,
   "metadata": {},
   "outputs": [
    {
     "name": "stdout",
     "output_type": "stream",
     "text": [
      "k_P = 2.0122483354623095\n",
      "k_I = 0.4720703610313965\n"
     ]
    }
   ],
   "source": [
    "k_P = (2*zeta*omega_k*I + dQ_dOMEGA - 1/eta * dQ_g_dOMEGA) / (-dQ_dTheta)\n",
    "k_I = omega_k**2 * I / (-dQ_dTheta)\n",
    "\n",
    "print(f'k_P = {k_P}')\n",
    "print(f'k_I = {k_I}')"
   ]
  },
  {
   "cell_type": "markdown",
   "metadata": {},
   "source": [
    "# FIT"
   ]
  },
  {
   "cell_type": "code",
   "execution_count": 4,
   "metadata": {},
   "outputs": [
    {
     "name": "stdout",
     "output_type": "stream",
     "text": [
      "12.963253912752144 447.4434044319838\n"
     ]
    }
   ],
   "source": [
    "from pathlib import Path\n",
    "import matplotlib.pyplot as plt\n",
    "from lacbox.io import load_ctrl_txt\n",
    "from lacbox.test import test_data_path\n",
    "import pandas as pd\n",
    "\n",
    "fname = 'res_hawc2s/BB_redesign_hawc2s_ctrltune_ctrl_tuning_ref.txt'\n",
    "\n",
    "ctrltune_dict = load_ctrl_txt(fname)\n",
    "\n",
    "aero_gains_df = ctrltune_dict['aero_gains']\n",
    "\n",
    "\n",
    "column_1 = aero_gains_df['dq/dtheta_kNm/deg'].keys()\n",
    "column_2 = aero_gains_df['dq/dtheta_kNm/deg'].values\n",
    "\n",
    "# Perform quadratic polynomial fit (degree 2)\n",
    "coefficients = np.polyfit(column_1, column_2, 2)\n",
    "\n",
    "\n",
    "# f(theta) = A + B*theta + C*theta**2\n",
    "# A = dq/dtheta, B = dq/dtheta / KK1, C = dq/dtheta / KK2\n",
    "\n",
    "C = coefficients[0]\n",
    "B = coefficients[1]\n",
    "A = coefficients[2]\n",
    "\n",
    "KK1 = A/B\n",
    "KK2 = A/C\n",
    "\n",
    "print(KK1, KK2)\n",
    "\n",
    "\n",
    "\n"
   ]
  },
  {
   "cell_type": "markdown",
   "metadata": {},
   "source": [
    "# Plots"
   ]
  },
  {
   "cell_type": "code",
   "execution_count": 14,
   "metadata": {},
   "outputs": [
    {
     "data": {
      "image/png": "[encoded data removed]",
      "text/plain": [
       "<Figure size 350x262.5 with 1 Axes>"
      ]
     },
     "metadata": {},
     "output_type": "display_data"
    }
   ],
   "source": [
    "import matplotlib.pyplot as plt\n",
    "import scienceplots\n",
    "# matplotlib.rcParams.update(matplotlib.rcParamsDefault) # TO RESET  PLOTS\n",
    "plt.style.use('science')\n",
    "\n",
    "# # Set global font properties\n",
    "plt.rcParams['legend.frameon'] = True  # Enable the legend frame\n",
    "plt.rcParams['legend.fancybox'] = False  # No fancybox, just a regular box\n",
    "plt.rcParams['legend.edgecolor'] = 'black'  # Black edge color\n",
    "plt.rcParams['legend.framealpha'] = 1  # No transparency\n",
    "plt.rcParams['font.size'] = 10\n",
    "plt.rcParams['font.weight'] = 'normal'\n",
    "\n",
    "\n",
    "figure = plt.plot(figsize=(4, 3))\n",
    "plt.plot(aero_gains_df['dq/dtheta_kNm/deg']/1000, c='k', marker='o',\n",
    "            linestyle='none', mfc='none', label='True gain')\n",
    "plt.plot(aero_gains_df['fit_kNm/deg']/1000, c='C0', marker='x', label='Polynomial fit')\n",
    "plt.xlabel('$\\\\theta$ [deg]')\n",
    "plt.ylabel(r'$dQ/d \\theta$ [MNm/deg]')\n",
    "plt.grid(linestyle='--', linewidth=0.5, alpha=0.7)\n",
    "legend = plt.legend(fancybox=False, edgecolor=\"black\", fontsize=8)\n",
    "legend.get_frame().set_linewidth(0.5)    \n",
    "plt.tight_layout()\n",
    "plt.savefig('part_1_theoretical_fitting.pdf', dpi = 300, bbox_inches='tight')"
   ]
  }
 ],
 "metadata": {
  "kernelspec": {
   "display_name": "Python 3",
   "language": "python",
   "name": "python3"
  },
  "language_info": {
   "codemirror_mode": {
    "name": "ipython",
    "version": 3
   },
   "file_extension": ".py",
   "mimetype": "text/x-python",
   "name": "python",
   "nbconvert_exporter": "python",
   "pygments_lexer": "ipython3",
   "version": "3.11.9"
  },
  "orig_nbformat": 4
 },
 "nbformat": 4,
 "nbformat_minor": 2
}
