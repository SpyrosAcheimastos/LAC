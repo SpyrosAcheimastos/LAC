{
 "cells": [
  {
   "cell_type": "code",
   "metadata": {
    "ExecuteTime": {
     "end_time": "2024-11-25T09:34:34.852800Z",
     "start_time": "2024-11-25T09:34:32.848890Z"
    }
   },
   "source": [
    "from lacbox.io import load_pc, save_pc\n",
    "from lacbox.test import test_data_path\n",
    "import numpy as np\n",
    "import matplotlib.pyplot as plt\n",
    "\n",
    "import scienceplots\n",
    "import matplotlib\n",
    "\n",
    "# matplotlib.rcParams.update(matplotlib.rcParamsDefault) # TO RESET  PLOTS\n",
    "plt.style.use('science')\n",
    "\n",
    "# # Set global font properties\n",
    "plt.rcParams['legend.frameon'] = True  # Enable the legend frame\n",
    "plt.rcParams['legend.fancybox'] = False  # No fancybox, just a regular box\n",
    "plt.rcParams['legend.edgecolor'] = 'black'  # Black edge color\n",
    "plt.rcParams['legend.framealpha'] = 1  # No transparency\n",
    "plt.rcParams['font.size'] = 12\n",
    "plt.rcParams['font.weight'] = 'normal'\n",
    "\n",
    "\n",
    "pc_path = test_data_path + '/dtu_10_mw/data/DTU_10MW_RWT_pc.dat'\n",
    "pc_data = load_pc(pc_path)\n",
    "# print(f\"Number of profiles: len(pc_data)={len(pc_data)}\")\n",
    "# print(f\"Profile keys: pc_data[i].keys()={pc_data[0].keys()}\")\n",
    "\n",
    "\n",
    "# Removing last 3 profile elements (60% + 100%)\n",
    "pc_data = pc_data[:-3]\n",
    "\n",
    "# Interpolating for a new aoa grid (very course)\n",
    "aoa_deg_new = np.linspace(0, 20, 40)\n",
    "for iprof, prof in enumerate(pc_data):\n",
    "    pc_data[iprof][\"cl\"] = np.interp(aoa_deg_new, prof[\"aoa_deg\"], prof[\"cl\"])\n",
    "    pc_data[iprof][\"cd\"] = np.interp(aoa_deg_new, prof[\"aoa_deg\"], prof[\"cd\"])\n",
    "    pc_data[iprof][\"cm\"] = np.interp(aoa_deg_new, prof[\"aoa_deg\"], prof[\"cm\"])\n",
    "    pc_data[iprof][\"aoa_deg\"] = aoa_deg_new"
   ],
   "outputs": [],
   "execution_count": 1
  },
  {
   "attachments": {},
   "cell_type": "markdown",
   "metadata": {},
   "source": [
    "# Function to Find Maximum and Design Point"
   ]
  },
  {
   "cell_type": "code",
   "metadata": {
    "ExecuteTime": {
     "end_time": "2024-11-25T14:31:41.829052Z",
     "start_time": "2024-11-25T14:31:41.820665Z"
    }
   },
   "source": [
    "def find_max_and_design_of_pc(data, thumb_subtract = 0.4):\n",
    "    \"\"\"\n",
    "    Find the CL_max and the CD and AoA that correspond to that.\n",
    "    Also find the CL_design (=max-0.4), as well as the corresponding CD and AoA.\n",
    "\n",
    "    Input:\n",
    "    -------------\n",
    "        data:   pc_data[i]\n",
    "    \"\"\"\n",
    "    # Find the maximum values\n",
    "    cl_max_idx = np.argmax(data['cl'])\n",
    "    cl_max = data['cl'][cl_max_idx]\n",
    "    cd_for_max = data['cd'][cl_max_idx]\n",
    "    aoa_for_max = data['aoa_deg'][cl_max_idx]\n",
    "\n",
    "    # Find the design values\n",
    "    cl_des_idx = np.argmin(np.abs(data['cl'] - (cl_max - thumb_subtract)))\n",
    "    cl_des = data['cl'][cl_des_idx]\n",
    "    cd_for_des = data['cd'][cl_des_idx]\n",
    "    aoa_for_des = data['aoa_deg'][cl_des_idx]\n",
    "\n",
    "    point_max = {\n",
    "        'cl': cl_max,\n",
    "        'cd': cd_for_max, \n",
    "        'aoa': aoa_for_max,\n",
    "    }\n",
    "\n",
    "    point_des ={\n",
    "        'cl': cl_des, \n",
    "        'cd': cd_for_des, \n",
    "        'aoa': aoa_for_des\n",
    "    }\n",
    "\n",
    "    return point_max, point_des"
   ],
   "outputs": [],
   "execution_count": 1
  },
  {
   "attachments": {},
   "cell_type": "markdown",
   "metadata": {},
   "source": [
    "# Visualize the data"
   ]
  },
  {
   "cell_type": "code",
   "metadata": {
    "ExecuteTime": {
     "end_time": "2024-11-25T09:34:47.687915Z",
     "start_time": "2024-11-25T09:34:34.869236Z"
    }
   },
   "source": [
    "# List to store all rows\n",
    "all_rows = []\n",
    "\n",
    "thumb_subtract_list = [0.4, 0.4, 0.55]\n",
    "\n",
    "# Plotting interpolated data\n",
    "for iprof, prof in enumerate(pc_data):\n",
    "\n",
    "    # Find Max and Design\n",
    "    point_max, point_des = find_max_and_design_of_pc(pc_data[iprof],thumb_subtract=thumb_subtract_list[iprof])\n",
    "    tc = pc_data[iprof]['tc']\n",
    "\n",
    "    # Collect the data in a row\n",
    "    row = [\n",
    "        tc,\n",
    "        point_max['cl'],          # Max CL\n",
    "        point_max['cd'],          # Max CD\n",
    "        point_max['cl']/point_max['cd'],\n",
    "        point_max['aoa'],         # Max AOA\n",
    "        point_des['cl'],          # Design CL\n",
    "        point_des['cd'],          # Design CD\n",
    "        point_des['cl']/point_des['cd'],\n",
    "        point_des['aoa']          # Design AOA\n",
    "    ]\n",
    "    all_rows.append(row)\n",
    "\n",
    "    # CL VS CD\n",
    "    figure = plt.figure(figsize=(3, 3))\n",
    "    plt.plot(prof[\"cd\"], prof[\"cl\"])\n",
    "    plt.plot(point_max['cd'], point_max['cl'], 'rs', label='Maximum')\n",
    "    plt.plot(point_des['cd'], point_des['cl'], 'go', label='Design')\n",
    "    plt.xlabel(r\"$C_d$ [-]\")\n",
    "    plt.ylabel(r\"$C_l$ [-]\")\n",
    "    legend = plt.legend(fancybox=False, edgecolor=\"black\")\n",
    "    legend.get_frame().set_linewidth(0.5)    \n",
    "    plt.tick_params(axis='both', bottom=True, top=True, left=True, right=True, direction='in', which='major') \n",
    "    plt.grid(linestyle='--', linewidth=0.5, alpha=0.7)\n",
    "    plt.savefig(f'Plots/cl_vs_cd_{tc}.pdf', dpi=300, bbox_inches='tight')\n",
    "\n",
    "    # CL VS AoA\n",
    "    figure = plt.figure(figsize=(3, 3))\n",
    "    plt.plot(prof[\"aoa_deg\"], prof[\"cl\"])\n",
    "    plt.plot(point_max['aoa'], point_max['cl'], 'rs', label='Maximum')\n",
    "    plt.plot(point_des['aoa'], point_des['cl'], 'go', label='Design')\n",
    "    plt.xlabel(r\"$\\alpha$ [deg]\")\n",
    "    plt.ylabel(r\"$C_l$ [-]\")\n",
    "    plt.tick_params(axis='both', bottom=True, top=True, left=True, right=True, direction='in', which='major') \n",
    "    plt.grid(linestyle='--', linewidth=0.5, alpha=0.7)\n",
    "    plt.savefig(f'Plots/cl_vs_aoa_{tc}.pdf', dpi=300, bbox_inches='tight')\n",
    "\n",
    "    # CL VS CL/CD\n",
    "    figure = plt.figure(figsize=(3, 3))\n",
    "    plt.plot(prof[\"cl\"]/prof[\"cd\"], prof[\"cl\"])\n",
    "    plt.plot(point_max['cl']/point_max['cd'], point_max['cl'], 'rs', label='Maximum')\n",
    "    plt.plot(point_des['cl']/point_des['cd'], point_des['cl'], 'go', label='Design')\n",
    "    plt.xlabel(r\"$C_l/C_d$ [-]\")\n",
    "    plt.ylabel(r\"$C_l$ [-]\")\n",
    "    plt.tick_params(axis='both', bottom=True, top=True, left=True, right=True, direction='in', which='major') \n",
    "    plt.grid(linestyle='--', linewidth=0.5, alpha=0.7)\n",
    "    plt.savefig(f'Plots/cl_vs_cl_cd_{tc}.pdf', dpi=300, bbox_inches='tight')"
   ],
   "outputs": [
    {
     "ename": "FileNotFoundError",
     "evalue": "[Errno 2] No such file or directory: 'Plots/cl_vs_cd_24.1.pdf'",
     "output_type": "error",
     "traceback": [
      "\u001B[1;31m---------------------------------------------------------------------------\u001B[0m",
      "\u001B[1;31mFileNotFoundError\u001B[0m                         Traceback (most recent call last)",
      "Cell \u001B[1;32mIn[3], line 38\u001B[0m\n\u001B[0;32m     36\u001B[0m plt\u001B[38;5;241m.\u001B[39mtick_params(axis\u001B[38;5;241m=\u001B[39m\u001B[38;5;124m'\u001B[39m\u001B[38;5;124mboth\u001B[39m\u001B[38;5;124m'\u001B[39m, bottom\u001B[38;5;241m=\u001B[39m\u001B[38;5;28;01mTrue\u001B[39;00m, top\u001B[38;5;241m=\u001B[39m\u001B[38;5;28;01mTrue\u001B[39;00m, left\u001B[38;5;241m=\u001B[39m\u001B[38;5;28;01mTrue\u001B[39;00m, right\u001B[38;5;241m=\u001B[39m\u001B[38;5;28;01mTrue\u001B[39;00m, direction\u001B[38;5;241m=\u001B[39m\u001B[38;5;124m'\u001B[39m\u001B[38;5;124min\u001B[39m\u001B[38;5;124m'\u001B[39m, which\u001B[38;5;241m=\u001B[39m\u001B[38;5;124m'\u001B[39m\u001B[38;5;124mmajor\u001B[39m\u001B[38;5;124m'\u001B[39m) \n\u001B[0;32m     37\u001B[0m plt\u001B[38;5;241m.\u001B[39mgrid(linestyle\u001B[38;5;241m=\u001B[39m\u001B[38;5;124m'\u001B[39m\u001B[38;5;124m--\u001B[39m\u001B[38;5;124m'\u001B[39m, linewidth\u001B[38;5;241m=\u001B[39m\u001B[38;5;241m0.5\u001B[39m, alpha\u001B[38;5;241m=\u001B[39m\u001B[38;5;241m0.7\u001B[39m)\n\u001B[1;32m---> 38\u001B[0m \u001B[43mplt\u001B[49m\u001B[38;5;241;43m.\u001B[39;49m\u001B[43msavefig\u001B[49m\u001B[43m(\u001B[49m\u001B[38;5;124;43mf\u001B[39;49m\u001B[38;5;124;43m'\u001B[39;49m\u001B[38;5;124;43mPlots/cl_vs_cd_\u001B[39;49m\u001B[38;5;132;43;01m{\u001B[39;49;00m\u001B[43mtc\u001B[49m\u001B[38;5;132;43;01m}\u001B[39;49;00m\u001B[38;5;124;43m.pdf\u001B[39;49m\u001B[38;5;124;43m'\u001B[39;49m\u001B[43m,\u001B[49m\u001B[43m \u001B[49m\u001B[43mdpi\u001B[49m\u001B[38;5;241;43m=\u001B[39;49m\u001B[38;5;241;43m300\u001B[39;49m\u001B[43m,\u001B[49m\u001B[43m \u001B[49m\u001B[43mbbox_inches\u001B[49m\u001B[38;5;241;43m=\u001B[39;49m\u001B[38;5;124;43m'\u001B[39;49m\u001B[38;5;124;43mtight\u001B[39;49m\u001B[38;5;124;43m'\u001B[39;49m\u001B[43m)\u001B[49m\n\u001B[0;32m     40\u001B[0m \u001B[38;5;66;03m# CL VS AoA\u001B[39;00m\n\u001B[0;32m     41\u001B[0m figure \u001B[38;5;241m=\u001B[39m plt\u001B[38;5;241m.\u001B[39mfigure(figsize\u001B[38;5;241m=\u001B[39m(\u001B[38;5;241m3\u001B[39m, \u001B[38;5;241m3\u001B[39m))\n",
      "File \u001B[1;32mc:\\Users\\jimwi\\OneDrive\\TU MATERIAAL\\Master materiaal\\Semester3\\46200 LAC\\.conda\\Lib\\site-packages\\matplotlib\\pyplot.py:1228\u001B[0m, in \u001B[0;36msavefig\u001B[1;34m(*args, **kwargs)\u001B[0m\n\u001B[0;32m   1225\u001B[0m fig \u001B[38;5;241m=\u001B[39m gcf()\n\u001B[0;32m   1226\u001B[0m \u001B[38;5;66;03m# savefig default implementation has no return, so mypy is unhappy\u001B[39;00m\n\u001B[0;32m   1227\u001B[0m \u001B[38;5;66;03m# presumably this is here because subclasses can return?\u001B[39;00m\n\u001B[1;32m-> 1228\u001B[0m res \u001B[38;5;241m=\u001B[39m \u001B[43mfig\u001B[49m\u001B[38;5;241;43m.\u001B[39;49m\u001B[43msavefig\u001B[49m\u001B[43m(\u001B[49m\u001B[38;5;241;43m*\u001B[39;49m\u001B[43margs\u001B[49m\u001B[43m,\u001B[49m\u001B[43m \u001B[49m\u001B[38;5;241;43m*\u001B[39;49m\u001B[38;5;241;43m*\u001B[39;49m\u001B[43mkwargs\u001B[49m\u001B[43m)\u001B[49m  \u001B[38;5;66;03m# type: ignore[func-returns-value]\u001B[39;00m\n\u001B[0;32m   1229\u001B[0m fig\u001B[38;5;241m.\u001B[39mcanvas\u001B[38;5;241m.\u001B[39mdraw_idle()  \u001B[38;5;66;03m# Need this if 'transparent=True', to reset colors.\u001B[39;00m\n\u001B[0;32m   1230\u001B[0m \u001B[38;5;28;01mreturn\u001B[39;00m res\n",
      "File \u001B[1;32mc:\\Users\\jimwi\\OneDrive\\TU MATERIAAL\\Master materiaal\\Semester3\\46200 LAC\\.conda\\Lib\\site-packages\\matplotlib\\figure.py:3395\u001B[0m, in \u001B[0;36mFigure.savefig\u001B[1;34m(self, fname, transparent, **kwargs)\u001B[0m\n\u001B[0;32m   3393\u001B[0m     \u001B[38;5;28;01mfor\u001B[39;00m ax \u001B[38;5;129;01min\u001B[39;00m \u001B[38;5;28mself\u001B[39m\u001B[38;5;241m.\u001B[39maxes:\n\u001B[0;32m   3394\u001B[0m         _recursively_make_axes_transparent(stack, ax)\n\u001B[1;32m-> 3395\u001B[0m \u001B[38;5;28;43mself\u001B[39;49m\u001B[38;5;241;43m.\u001B[39;49m\u001B[43mcanvas\u001B[49m\u001B[38;5;241;43m.\u001B[39;49m\u001B[43mprint_figure\u001B[49m\u001B[43m(\u001B[49m\u001B[43mfname\u001B[49m\u001B[43m,\u001B[49m\u001B[43m \u001B[49m\u001B[38;5;241;43m*\u001B[39;49m\u001B[38;5;241;43m*\u001B[39;49m\u001B[43mkwargs\u001B[49m\u001B[43m)\u001B[49m\n",
      "File \u001B[1;32mc:\\Users\\jimwi\\OneDrive\\TU MATERIAAL\\Master materiaal\\Semester3\\46200 LAC\\.conda\\Lib\\site-packages\\matplotlib\\backend_bases.py:2204\u001B[0m, in \u001B[0;36mFigureCanvasBase.print_figure\u001B[1;34m(self, filename, dpi, facecolor, edgecolor, orientation, format, bbox_inches, pad_inches, bbox_extra_artists, backend, **kwargs)\u001B[0m\n\u001B[0;32m   2200\u001B[0m \u001B[38;5;28;01mtry\u001B[39;00m:\n\u001B[0;32m   2201\u001B[0m     \u001B[38;5;66;03m# _get_renderer may change the figure dpi (as vector formats\u001B[39;00m\n\u001B[0;32m   2202\u001B[0m     \u001B[38;5;66;03m# force the figure dpi to 72), so we need to set it again here.\u001B[39;00m\n\u001B[0;32m   2203\u001B[0m     \u001B[38;5;28;01mwith\u001B[39;00m cbook\u001B[38;5;241m.\u001B[39m_setattr_cm(\u001B[38;5;28mself\u001B[39m\u001B[38;5;241m.\u001B[39mfigure, dpi\u001B[38;5;241m=\u001B[39mdpi):\n\u001B[1;32m-> 2204\u001B[0m         result \u001B[38;5;241m=\u001B[39m \u001B[43mprint_method\u001B[49m\u001B[43m(\u001B[49m\n\u001B[0;32m   2205\u001B[0m \u001B[43m            \u001B[49m\u001B[43mfilename\u001B[49m\u001B[43m,\u001B[49m\n\u001B[0;32m   2206\u001B[0m \u001B[43m            \u001B[49m\u001B[43mfacecolor\u001B[49m\u001B[38;5;241;43m=\u001B[39;49m\u001B[43mfacecolor\u001B[49m\u001B[43m,\u001B[49m\n\u001B[0;32m   2207\u001B[0m \u001B[43m            \u001B[49m\u001B[43medgecolor\u001B[49m\u001B[38;5;241;43m=\u001B[39;49m\u001B[43medgecolor\u001B[49m\u001B[43m,\u001B[49m\n\u001B[0;32m   2208\u001B[0m \u001B[43m            \u001B[49m\u001B[43morientation\u001B[49m\u001B[38;5;241;43m=\u001B[39;49m\u001B[43morientation\u001B[49m\u001B[43m,\u001B[49m\n\u001B[0;32m   2209\u001B[0m \u001B[43m            \u001B[49m\u001B[43mbbox_inches_restore\u001B[49m\u001B[38;5;241;43m=\u001B[39;49m\u001B[43m_bbox_inches_restore\u001B[49m\u001B[43m,\u001B[49m\n\u001B[0;32m   2210\u001B[0m \u001B[43m            \u001B[49m\u001B[38;5;241;43m*\u001B[39;49m\u001B[38;5;241;43m*\u001B[39;49m\u001B[43mkwargs\u001B[49m\u001B[43m)\u001B[49m\n\u001B[0;32m   2211\u001B[0m \u001B[38;5;28;01mfinally\u001B[39;00m:\n\u001B[0;32m   2212\u001B[0m     \u001B[38;5;28;01mif\u001B[39;00m bbox_inches \u001B[38;5;129;01mand\u001B[39;00m restore_bbox:\n",
      "File \u001B[1;32mc:\\Users\\jimwi\\OneDrive\\TU MATERIAAL\\Master materiaal\\Semester3\\46200 LAC\\.conda\\Lib\\site-packages\\matplotlib\\backend_bases.py:2054\u001B[0m, in \u001B[0;36mFigureCanvasBase._switch_canvas_and_return_print_method.<locals>.<lambda>\u001B[1;34m(*args, **kwargs)\u001B[0m\n\u001B[0;32m   2050\u001B[0m     optional_kws \u001B[38;5;241m=\u001B[39m {  \u001B[38;5;66;03m# Passed by print_figure for other renderers.\u001B[39;00m\n\u001B[0;32m   2051\u001B[0m         \u001B[38;5;124m\"\u001B[39m\u001B[38;5;124mdpi\u001B[39m\u001B[38;5;124m\"\u001B[39m, \u001B[38;5;124m\"\u001B[39m\u001B[38;5;124mfacecolor\u001B[39m\u001B[38;5;124m\"\u001B[39m, \u001B[38;5;124m\"\u001B[39m\u001B[38;5;124medgecolor\u001B[39m\u001B[38;5;124m\"\u001B[39m, \u001B[38;5;124m\"\u001B[39m\u001B[38;5;124morientation\u001B[39m\u001B[38;5;124m\"\u001B[39m,\n\u001B[0;32m   2052\u001B[0m         \u001B[38;5;124m\"\u001B[39m\u001B[38;5;124mbbox_inches_restore\u001B[39m\u001B[38;5;124m\"\u001B[39m}\n\u001B[0;32m   2053\u001B[0m     skip \u001B[38;5;241m=\u001B[39m optional_kws \u001B[38;5;241m-\u001B[39m {\u001B[38;5;241m*\u001B[39minspect\u001B[38;5;241m.\u001B[39msignature(meth)\u001B[38;5;241m.\u001B[39mparameters}\n\u001B[1;32m-> 2054\u001B[0m     print_method \u001B[38;5;241m=\u001B[39m functools\u001B[38;5;241m.\u001B[39mwraps(meth)(\u001B[38;5;28;01mlambda\u001B[39;00m \u001B[38;5;241m*\u001B[39margs, \u001B[38;5;241m*\u001B[39m\u001B[38;5;241m*\u001B[39mkwargs: \u001B[43mmeth\u001B[49m\u001B[43m(\u001B[49m\n\u001B[0;32m   2055\u001B[0m \u001B[43m        \u001B[49m\u001B[38;5;241;43m*\u001B[39;49m\u001B[43margs\u001B[49m\u001B[43m,\u001B[49m\u001B[43m \u001B[49m\u001B[38;5;241;43m*\u001B[39;49m\u001B[38;5;241;43m*\u001B[39;49m\u001B[43m{\u001B[49m\u001B[43mk\u001B[49m\u001B[43m:\u001B[49m\u001B[43m \u001B[49m\u001B[43mv\u001B[49m\u001B[43m \u001B[49m\u001B[38;5;28;43;01mfor\u001B[39;49;00m\u001B[43m \u001B[49m\u001B[43mk\u001B[49m\u001B[43m,\u001B[49m\u001B[43m \u001B[49m\u001B[43mv\u001B[49m\u001B[43m \u001B[49m\u001B[38;5;129;43;01min\u001B[39;49;00m\u001B[43m \u001B[49m\u001B[43mkwargs\u001B[49m\u001B[38;5;241;43m.\u001B[39;49m\u001B[43mitems\u001B[49m\u001B[43m(\u001B[49m\u001B[43m)\u001B[49m\u001B[43m \u001B[49m\u001B[38;5;28;43;01mif\u001B[39;49;00m\u001B[43m \u001B[49m\u001B[43mk\u001B[49m\u001B[43m \u001B[49m\u001B[38;5;129;43;01mnot\u001B[39;49;00m\u001B[43m \u001B[49m\u001B[38;5;129;43;01min\u001B[39;49;00m\u001B[43m \u001B[49m\u001B[43mskip\u001B[49m\u001B[43m}\u001B[49m\u001B[43m)\u001B[49m)\n\u001B[0;32m   2056\u001B[0m \u001B[38;5;28;01melse\u001B[39;00m:  \u001B[38;5;66;03m# Let third-parties do as they see fit.\u001B[39;00m\n\u001B[0;32m   2057\u001B[0m     print_method \u001B[38;5;241m=\u001B[39m meth\n",
      "File \u001B[1;32mc:\\Users\\jimwi\\OneDrive\\TU MATERIAAL\\Master materiaal\\Semester3\\46200 LAC\\.conda\\Lib\\site-packages\\matplotlib\\backends\\backend_pdf.py:2792\u001B[0m, in \u001B[0;36mFigureCanvasPdf.print_pdf\u001B[1;34m(self, filename, bbox_inches_restore, metadata)\u001B[0m\n\u001B[0;32m   2790\u001B[0m     file \u001B[38;5;241m=\u001B[39m filename\u001B[38;5;241m.\u001B[39m_ensure_file()\n\u001B[0;32m   2791\u001B[0m \u001B[38;5;28;01melse\u001B[39;00m:\n\u001B[1;32m-> 2792\u001B[0m     file \u001B[38;5;241m=\u001B[39m \u001B[43mPdfFile\u001B[49m\u001B[43m(\u001B[49m\u001B[43mfilename\u001B[49m\u001B[43m,\u001B[49m\u001B[43m \u001B[49m\u001B[43mmetadata\u001B[49m\u001B[38;5;241;43m=\u001B[39;49m\u001B[43mmetadata\u001B[49m\u001B[43m)\u001B[49m\n\u001B[0;32m   2793\u001B[0m \u001B[38;5;28;01mtry\u001B[39;00m:\n\u001B[0;32m   2794\u001B[0m     file\u001B[38;5;241m.\u001B[39mnewPage(width, height)\n",
      "File \u001B[1;32mc:\\Users\\jimwi\\OneDrive\\TU MATERIAAL\\Master materiaal\\Semester3\\46200 LAC\\.conda\\Lib\\site-packages\\matplotlib\\backends\\backend_pdf.py:688\u001B[0m, in \u001B[0;36mPdfFile.__init__\u001B[1;34m(self, filename, metadata)\u001B[0m\n\u001B[0;32m    686\u001B[0m \u001B[38;5;28mself\u001B[39m\u001B[38;5;241m.\u001B[39moriginal_file_like \u001B[38;5;241m=\u001B[39m \u001B[38;5;28;01mNone\u001B[39;00m\n\u001B[0;32m    687\u001B[0m \u001B[38;5;28mself\u001B[39m\u001B[38;5;241m.\u001B[39mtell_base \u001B[38;5;241m=\u001B[39m \u001B[38;5;241m0\u001B[39m\n\u001B[1;32m--> 688\u001B[0m fh, opened \u001B[38;5;241m=\u001B[39m \u001B[43mcbook\u001B[49m\u001B[38;5;241;43m.\u001B[39;49m\u001B[43mto_filehandle\u001B[49m\u001B[43m(\u001B[49m\u001B[43mfilename\u001B[49m\u001B[43m,\u001B[49m\u001B[43m \u001B[49m\u001B[38;5;124;43m\"\u001B[39;49m\u001B[38;5;124;43mwb\u001B[39;49m\u001B[38;5;124;43m\"\u001B[39;49m\u001B[43m,\u001B[49m\u001B[43m \u001B[49m\u001B[43mreturn_opened\u001B[49m\u001B[38;5;241;43m=\u001B[39;49m\u001B[38;5;28;43;01mTrue\u001B[39;49;00m\u001B[43m)\u001B[49m\n\u001B[0;32m    689\u001B[0m \u001B[38;5;28;01mif\u001B[39;00m \u001B[38;5;129;01mnot\u001B[39;00m opened:\n\u001B[0;32m    690\u001B[0m     \u001B[38;5;28;01mtry\u001B[39;00m:\n",
      "File \u001B[1;32mc:\\Users\\jimwi\\OneDrive\\TU MATERIAAL\\Master materiaal\\Semester3\\46200 LAC\\.conda\\Lib\\site-packages\\matplotlib\\cbook.py:483\u001B[0m, in \u001B[0;36mto_filehandle\u001B[1;34m(fname, flag, return_opened, encoding)\u001B[0m\n\u001B[0;32m    481\u001B[0m         fh \u001B[38;5;241m=\u001B[39m bz2\u001B[38;5;241m.\u001B[39mBZ2File(fname, flag)\n\u001B[0;32m    482\u001B[0m     \u001B[38;5;28;01melse\u001B[39;00m:\n\u001B[1;32m--> 483\u001B[0m         fh \u001B[38;5;241m=\u001B[39m \u001B[38;5;28;43mopen\u001B[39;49m\u001B[43m(\u001B[49m\u001B[43mfname\u001B[49m\u001B[43m,\u001B[49m\u001B[43m \u001B[49m\u001B[43mflag\u001B[49m\u001B[43m,\u001B[49m\u001B[43m \u001B[49m\u001B[43mencoding\u001B[49m\u001B[38;5;241;43m=\u001B[39;49m\u001B[43mencoding\u001B[49m\u001B[43m)\u001B[49m\n\u001B[0;32m    484\u001B[0m     opened \u001B[38;5;241m=\u001B[39m \u001B[38;5;28;01mTrue\u001B[39;00m\n\u001B[0;32m    485\u001B[0m \u001B[38;5;28;01melif\u001B[39;00m \u001B[38;5;28mhasattr\u001B[39m(fname, \u001B[38;5;124m'\u001B[39m\u001B[38;5;124mseek\u001B[39m\u001B[38;5;124m'\u001B[39m):\n",
      "\u001B[1;31mFileNotFoundError\u001B[0m: [Errno 2] No such file or directory: 'Plots/cl_vs_cd_24.1.pdf'"
     ]
    },
    {
     "data": {
      "text/plain": [
       "<Figure size 300x300 with 1 Axes>"
      ],
      "image/png": "[encoded data removed]"
     },
     "metadata": {},
     "output_type": "display_data"
    }
   ],
   "execution_count": 3
  },
  {
   "attachments": {},
   "cell_type": "markdown",
   "metadata": {},
   "source": [
    "# Only for 40%"
   ]
  },
  {
   "cell_type": "code",
   "metadata": {
    "ExecuteTime": {
     "end_time": "2024-11-25T09:34:47.690926Z",
     "start_time": "2024-11-25T09:34:47.690926Z"
    }
   },
   "source": [
    "pc_path = test_data_path + '/dtu_10_mw/data/DTU_10MW_RWT_pc.dat'\n",
    "pc_data = load_pc(pc_path)\n",
    "\n",
    "\n",
    "# Only 40%\n",
    "prof = pc_data[3]\n",
    "\n",
    "# Interpolating for a new aoa grid (very course)\n",
    "aoa_deg_new = np.linspace(0, 12, 40)\n",
    "prof[\"cl\"] = np.interp(aoa_deg_new, prof[\"aoa_deg\"], prof[\"cl\"])\n",
    "prof[\"cd\"] = np.interp(aoa_deg_new, prof[\"aoa_deg\"], prof[\"cd\"])\n",
    "prof[\"cm\"] = np.interp(aoa_deg_new, prof[\"aoa_deg\"], prof[\"cm\"])\n",
    "prof[\"aoa_deg\"] = aoa_deg_new\n",
    "\n",
    "\n",
    "\n",
    "# Find Max and Design\n",
    "point_max, point_des = find_max_and_design_of_pc(prof)\n",
    "tc = prof['tc']\n",
    "\n",
    "# Collect the data in a row\n",
    "row = [\n",
    "    tc,\n",
    "    point_max['cl'],          # Max CL\n",
    "    point_max['cd'],          # Max CD\n",
    "    point_max['cl']/point_max['cd'],\n",
    "    point_max['aoa'],         # Max AOA\n",
    "    point_des['cl'],          # Design CL\n",
    "    point_des['cd'],          # Design CD\n",
    "    point_des['cl']/point_des['cd'],\n",
    "    point_des['aoa']          # Design AOA\n",
    "]\n",
    "all_rows.append(row)\n",
    "\n",
    "# CL VS CD\n",
    "figure = plt.figure(figsize=(3, 3))\n",
    "plt.plot(prof[\"cd\"], prof[\"cl\"])\n",
    "plt.plot(point_max['cd'], point_max['cl'], 'rs', label='Maximum')\n",
    "plt.plot(point_des['cd'], point_des['cl'], 'go', label='Design')\n",
    "\n",
    "# plt.plot(point_des['cd'], point_des['cl'], 'go', label='Design')\n",
    "plt.xlabel(r\"$C_d$ [-]\")\n",
    "plt.ylabel(r\"$C_l$ [-]\")\n",
    "legend = plt.legend(fancybox=False, edgecolor=\"black\", loc='lower right')\n",
    "legend.get_frame().set_linewidth(0.5)\n",
    "plt.tick_params(axis='both', bottom=True, top=True, left=True, right=True, direction='in', which='major') \n",
    "plt.grid(linestyle='--', linewidth=0.5, alpha=0.7)\n",
    "plt.savefig(f'Plots/cl_vs_cd_{tc}.pdf', dpi=300, bbox_inches='tight')\n",
    "\n",
    "# CL VS AoA\n",
    "figure = plt.figure(figsize=(3, 3))\n",
    "plt.plot(prof[\"aoa_deg\"], prof[\"cl\"])\n",
    "plt.plot(point_max['aoa'], point_max['cl'], 'rs', label='Maximum')\n",
    "plt.plot(point_des['aoa'], point_des['cl'], 'go', label='Design')\n",
    "plt.xlabel(r\"$\\alpha$ [deg]\")\n",
    "plt.ylabel(r\"$C_l$ [-]\")\n",
    "plt.tick_params(axis='both', bottom=True, top=True, left=True, right=True, direction='in', which='major') \n",
    "plt.grid(linestyle='--', linewidth=0.5, alpha=0.7)\n",
    "plt.savefig(f'Plots/cl_vs_aoa_{tc}.pdf', dpi=300, bbox_inches='tight')\n",
    "\n",
    "# CL VS CL/CD\n",
    "figure = plt.figure(figsize=(3, 3))\n",
    "plt.plot(prof[\"cl\"]/prof[\"cd\"], prof[\"cl\"])\n",
    "plt.plot(point_max['cl']/point_max['cd'], point_max['cl'], 'rs', label='Maximum')\n",
    "plt.plot(point_des['cl']/point_des['cd'], point_des['cl'], 'go', label='Design')\n",
    "plt.xlabel(r\"$C_l/C_d$ [-]\")\n",
    "plt.ylabel(r\"$C_l$ [-]\")\n",
    "plt.tick_params(axis='both', bottom=True, top=True, left=True, right=True, direction='in', which='major') \n",
    "plt.grid(linestyle='--', linewidth=0.5, alpha=0.7)\n",
    "plt.savefig(f'Plots/cl_vs_cl_cd_{tc}.pdf', dpi=300, bbox_inches='tight')\n",
    "\n",
    "# print(point_des['cl'], point_des['cd'], point_des['cl']/point_des['cd'], point_des['aoa'])\n"
   ],
   "outputs": [],
   "execution_count": null
  },
  {
   "attachments": {},
   "cell_type": "markdown",
   "metadata": {},
   "source": [
    "# Save CSV"
   ]
  },
  {
   "cell_type": "code",
   "metadata": {},
   "source": [
    "import csv\n",
    "\n",
    "# THIS IS NOT SAVING THE TC = 0.48. HAVE TO DO IT MANUALLY\n",
    "\n",
    "# Add the custom header row as the first row\n",
    "header_row = [\n",
    "    't/c',\n",
    "    'cl_max', 'cd_for_max', 'cl/cd_max', 'aoa_for_max',\n",
    "    'cl_des', 'cd_for_des', 'cl/cd_des', 'aoa_for_des'\n",
    "]\n",
    "\n",
    "# After the loop, write all the collected data to a file\n",
    "with open('polar_results.csv', 'w', newline='') as file:\n",
    "    writer = csv.writer(file)\n",
    "    \n",
    "    # Write the header\n",
    "    writer.writerow(header_row)\n",
    "    \n",
    "    # Write all collected rows\n",
    "    writer.writerows(all_rows)"
   ],
   "outputs": [],
   "execution_count": null
  }
 ],
 "metadata": {
  "kernelspec": {
   "display_name": "base",
   "language": "python",
   "name": "python3"
  },
  "language_info": {
   "codemirror_mode": {
    "name": "ipython",
    "version": 3
   },
   "file_extension": ".py",
   "mimetype": "text/x-python",
   "name": "python",
   "nbconvert_exporter": "python",
   "pygments_lexer": "ipython3",
   "version": "3.11.9"
  },
  "orig_nbformat": 4
 },
 "nbformat": 4,
 "nbformat_minor": 2
}
