{
 "cells": [
  {
   "attachments": {},
   "cell_type": "markdown",
   "metadata": {},
   "source": [
    "# Import modules"
   ]
  },
  {
   "metadata": {
    "ExecuteTime": {
     "end_time": "2024-12-12T14:29:53.887638Z",
     "start_time": "2024-12-12T14:29:53.880738Z"
    }
   },
   "cell_type": "code",
   "source": [
    "from lacbox.io import load_pwr, load_ind, load_inds\n",
    "from lacbox.test import test_data_path\n",
    "import matplotlib.pyplot as plt\n",
    "from pathlib import Path\n",
    "from lacbox.io import load_ae\n",
    "import numpy as np\n",
    "from Assignment_1.Assignment_1.Part_2_aero_design_functions import single_point_design, get_design_functions\n",
    "\n",
    "\n",
    "\n"
   ],
   "outputs": [],
   "execution_count": 48
  },
  {
   "metadata": {},
   "cell_type": "markdown",
   "source": "# FancyPlots"
  },
  {
   "metadata": {
    "ExecuteTime": {
     "end_time": "2024-12-12T14:29:54.022337Z",
     "start_time": "2024-12-12T14:29:54.011650Z"
    }
   },
   "cell_type": "code",
   "source": [
    "import matplotlib\n",
    "import scienceplots\n",
    "\n",
    "matplotlib.rcParams.update(matplotlib.rcParamsDefault) # TO RESET  PLOTS\n",
    "plt.style.use(['science'])\n",
    "\n",
    "# Set global font properties\n",
    "plt.rcParams['legend.frameon'] = True  # Enable the legend frame\n",
    "plt.rcParams['legend.fancybox'] = False  # No fancybox, just a regular box\n",
    "plt.rcParams['legend.edgecolor'] = 'black'  # Black edge color\n",
    "plt.rcParams['legend.framealpha'] = 1  # No transparency\n",
    "plt.rcParams['font.size'] = 12\n",
    "plt.rcParams['font.weight'] = 'normal'"
   ],
   "outputs": [],
   "execution_count": 49
  },
  {
   "metadata": {
    "ExecuteTime": {
     "end_time": "2024-12-12T14:29:54.049947Z",
     "start_time": "2024-12-12T14:29:54.039461Z"
    }
   },
   "cell_type": "code",
   "source": [
    "# Plotting power for multiple tsr\n",
    "\n",
    "# Path for the file\n",
    "pwr_path = Path.cwd().parent / 'res_hawc2s' / 'Jim_Design_hawc2s_multitsr.pwr' \n",
    "# pwr_path = Path.cwd().parent / 'res_hawc2s' / 'Jim_Design_get_pwr_with_shaving.pwr' \n",
    "\n",
    "# Load the data\n",
    "pwr_data = load_pwr(pwr_path)\n",
    "# Print the names in the dict\n",
    "pwr_data.keys()\n"
   ],
   "outputs": [
    {
     "data": {
      "text/plain": [
       "dict_keys(['V_ms', 'P_kW', 'T_kN', 'Cp', 'Ct', 'Pitch_Q_Nm', 'Flap_M_kNm', 'Edge_M_kNm', 'Pitch_deg', 'Speed_rpm', 'Tip_x_m', 'Tip_y_m', 'Tip_z_m', 'J_rot_kgm2', 'J_DT_kgm2', 'Torsion_rad', 'Torque_kNm'])"
      ]
     },
     "execution_count": 50,
     "metadata": {},
     "output_type": "execute_result"
    }
   ],
   "execution_count": 50
  },
  {
   "metadata": {
    "ExecuteTime": {
     "end_time": "2024-12-12T14:29:55.124194Z",
     "start_time": "2024-12-12T14:29:54.113956Z"
    }
   },
   "cell_type": "code",
   "source": [
    " #        V [m/s]  1           P [kW]  2           T [kN]  3           Cp [-]  4           Ct [-]  5     Pitch Q [Nm]  6     Flap M [kNm]  7     Edge M [kNm]  8      Pitch [deg]  9      Speed [rpm] 10        Tip x [m] 11        Tip y [m] 12        Tip z [m] 13   J_rot [kg*m^2] 14    J_DT [kg*m^2] 15      Tors. [rad] 28    Torque [kNm]  29\n",
    "# Given rotor radius R (provide the value in meters)\n",
    "R = 88.042 + 2.8  # [m]\n",
    "\n",
    "# Load the data using np.loadtxt\n",
    "# Adjust the delimiter and number of columns if needed\n",
    "\n",
    "data = np.loadtxt(pwr_path, skiprows=1)\n",
    "\n",
    "# Extract relevant columns\n",
    "wind_speed = data[:, 0]  # V [m/s]\n",
    "rpm = data[:, 9]         # Speed [rpm]\n",
    "Cp = data[:, 3]          # Cp [-]\n",
    "Ct = data[:, 4]          # Ct [-]\n",
    "pitch = data[:,8]        # pitch [deg]\n",
    "\n",
    "# Calculate omega (rad/s) and TSR\n",
    "omega = np.pi * rpm / 30\n",
    "TSR = (omega * R) / wind_speed\n",
    "\n",
    "# Find the max Cp and its corresponding TSR\n",
    "max_cp_index = np.argmax(Cp)\n",
    "max_cp = Cp[max_cp_index]\n",
    "max_tsr = TSR[max_cp_index]\n",
    "\n",
    "print(max_tsr)\n",
    "\n",
    "\n",
    "# Plot Cp vs TSR\n",
    "plt.figure(figsize=(5, 3))\n",
    "plt.plot(TSR, Cp)\n",
    "# Plot the max point with an 'x'\n",
    "plt.scatter(max_tsr, max_cp, color='red', marker='x', s=100, label=r'Max $C_P$')\n",
    "plt.xlabel(r'$\\lambda$ [-]')\n",
    "plt.ylabel(r'$C_P$ [-]')\n",
    "plt.legend()\n",
    "plt.tick_params(axis='both',bottom=True, top=True, left=True, right=True, direction='in', which='major')\n",
    "plt.grid(linestyle='--', linewidth=0.5, alpha=0.7)\n",
    "plt.savefig('../Plots/CP_TSR_JIM' + '.pdf', dpi=300, bbox_inches='tight')\n",
    "\n",
    "\n",
    "# Plot Ct vs TSR\n",
    "plt.figure(figsize=(5,3))\n",
    "plt.plot(TSR, Ct)\n",
    "plt.xlabel(r'$\\lambda$ [-]')\n",
    "plt.ylabel(r'$C_T$ [-]')\n",
    "plt.tick_params(axis='both',bottom=True, top=True, left=True, right=True, direction='in', which='major')\n",
    "plt.grid(linestyle='--', linewidth=0.5, alpha=0.7)\n",
    "plt.savefig('../Plots/Ct_TSR_JIM' + '.pdf', dpi=300, bbox_inches='tight')"
   ],
   "outputs": [
    {
     "name": "stdout",
     "output_type": "stream",
     "text": [
      "7.521770691092424\n"
     ]
    }
   ],
   "execution_count": 51
  },
  {
   "metadata": {
    "ExecuteTime": {
     "end_time": "2024-12-12T14:29:55.134206Z",
     "start_time": "2024-12-12T14:29:55.127207Z"
    }
   },
   "cell_type": "code",
   "source": "print(max_cp)",
   "outputs": [
    {
     "name": "stdout",
     "output_type": "stream",
     "text": [
      "0.4804616737\n"
     ]
    }
   ],
   "execution_count": 52
  },
  {
   "metadata": {},
   "cell_type": "markdown",
   "source": "# Rotor speed and pitch angle vs wind speed"
  },
  {
   "metadata": {
    "ExecuteTime": {
     "end_time": "2024-12-12T14:29:55.175499Z",
     "start_time": "2024-12-12T14:29:55.136282Z"
    }
   },
   "cell_type": "code",
   "source": [
    "# Import the data from the appropriate file\n",
    "data_2 = np.loadtxt('../res_hawc2s/Jim_Design_hawc2s_multitsr_compute_rigid_opt.opt', skiprows=1)\n",
    "\n",
    "# Extract relevant columns\n",
    "wind_speed_2 = data_2[:, 0]     # V [m/s]\n",
    "pitch = data_2[:, 1]          # pitch [deg]\n",
    "rot_speed = data_2[:, 2]      # rotor speed [rpm]\n",
    "power = data_2[:, 3]          # aero power [kW]\n",
    "thrust = data_2[:,4]          # thrust [kN]\n",
    "\n",
    "# Calculate the coefficients\n",
    "rho = 1.225                                 # typical value for density [kg/m^3]\n",
    "A = np.pi*R**2                              # rotor surface are\n",
    "Cp_2 = power*1000/(0.5*rho*wind_speed_2**3*A)    # Power coefficient [-]  \n",
    "Ct_2 = thrust*1000/(0.5*rho*wind_speed_2**2*A)   # Thrust coefficient [-]\n",
    "\n",
    "# Plot RPM vs wind speed\n",
    "plt.figure(figsize=(5, 3))\n",
    "\n",
    "plt.plot(wind_speed_2, rot_speed)\n",
    "plt.xlabel('Wind speed [m/s]')\n",
    "plt.ylabel('Rotor speed [RPM]')\n",
    "plt.tick_params(axis='both',bottom=True, top=True, left=True, right=True, direction='in', which='major')\n",
    "plt.grid(linestyle='--', linewidth=0.5, alpha=0.7)\n",
    "# plt.savefig('Part_3_Plots/RPM_V_inf_BB' + '.pdf', dpi=300, bbox_inches='tight')\n",
    "\n",
    "# Plot pitch vs wind speed\n",
    "plt.figure(figsize=(5,3))\n",
    "plt.plot(wind_speed_2, pitch)\n",
    "plt.xlabel('Wind speed [m/s]')\n",
    "plt.ylabel('Pitch angle [deg]')\n",
    "plt.tick_params(axis='both',bottom=True, top=True, left=True, right=True, direction='in', which='major')\n",
    "plt.grid(linestyle='--', linewidth=0.5, alpha=0.7)\n",
    "# plt.savefig('Part_3_Plots/pitch_V_inf_BB' + '.pdf', dpi=300, bbox_inches='tight')"
   ],
   "outputs": [],
   "execution_count": 53
  },
  {
   "metadata": {},
   "cell_type": "markdown",
   "source": "# Aero power and Cp"
  },
  {
   "metadata": {
    "ExecuteTime": {
     "end_time": "2024-12-12T14:29:55.217591Z",
     "start_time": "2024-12-12T14:29:55.178507Z"
    }
   },
   "cell_type": "code",
   "source": [
    "# Plot Aero power vs wind speed\n",
    "plt.figure(figsize=(5, 3))\n",
    "\n",
    "plt.plot(wind_speed_2, power)\n",
    "plt.xlabel('Wind speed [m/s]')\n",
    "plt.ylabel('Aero Power [kW]')\n",
    "plt.tick_params(axis='both',bottom=True, top=True, left=True, right=True, direction='in', which='major')\n",
    "plt.grid(linestyle='--', linewidth=0.5, alpha=0.7)\n",
    "# plt.savefig('Part_3_Plots/Power_V_inf_BB' + '.pdf', dpi=300, bbox_inches='tight')\n",
    "\n",
    "# Plot CP vs wind speed\n",
    "plt.figure(figsize=(5, 3))\n",
    "plt.plot(wind_speed_2, Cp_2)\n",
    "plt.xlabel('Wind speed [m/s]')\n",
    "plt.ylabel(r'$C_P$ [-]')\n",
    "plt.tick_params(axis='both',bottom=True, top=True, left=True, right=True, direction='in', which='major')\n",
    "plt.grid(linestyle='--', linewidth=0.5, alpha=0.7)\n",
    "# plt.savefig('Part_3_Plots/CP_V_inf_BB' + '.pdf', dpi=300, bbox_inches='tight')"
   ],
   "outputs": [],
   "execution_count": 54
  },
  {
   "metadata": {},
   "cell_type": "markdown",
   "source": "# Aero thrust and Ct"
  },
  {
   "metadata": {
    "ExecuteTime": {
     "end_time": "2024-12-12T14:29:55.495974Z",
     "start_time": "2024-12-12T14:29:55.219600Z"
    }
   },
   "cell_type": "code",
   "source": [
    "# Plot thrust vs wind speed\n",
    "plt.figure(figsize=(5, 3))\n",
    "\n",
    "plt.plot(wind_speed_2, thrust)\n",
    "plt.xlabel('Wind speed [m/s]')\n",
    "plt.ylabel('Thrust [kN]')\n",
    "plt.tick_params(axis='both',bottom=True, top=True, left=True, right=True, direction='in', which='major')\n",
    "plt.grid(linestyle='--', linewidth=0.5, alpha=0.7)\n",
    "# plt.savefig('Part_3_Plots/Thrust_V_inf_BB' + '.pdf', dpi=300, bbox_inches='tight')\n",
    "\n",
    "# Plot Ct vs wind speed\n",
    "plt.figure(figsize=(5, 3))\n",
    "plt.plot(wind_speed_2, Ct_2)\n",
    "plt.xlabel('Wind speed [m/s]')\n",
    "plt.ylabel(r'$C_T$ [-]')\n",
    "plt.tick_params(axis='both',bottom=True, top=True, left=True, right=True, direction='in', which='major')\n",
    "plt.grid(linestyle='--', linewidth=0.5, alpha=0.7)\n",
    "# plt.savefig('Part_3_Plots/CT_V_inf_BB' + '.pdf', dpi=300, bbox_inches='tight')"
   ],
   "outputs": [],
   "execution_count": 55
  },
  {
   "metadata": {},
   "cell_type": "markdown",
   "source": ""
  },
  {
   "metadata": {},
   "cell_type": "markdown",
   "source": "#Old and new design thrust comparison"
  },
  {
   "metadata": {
    "ExecuteTime": {
     "end_time": "2024-12-12T14:29:55.507273Z",
     "start_time": "2024-12-12T14:29:55.498075Z"
    }
   },
   "cell_type": "code",
   "source": [
    "\"\"\"Data new flexible Design\"\"\"\n",
    "\n",
    "pwr_path_new_design = Path.cwd().parent / 'res_hawc2s' / 'Jim_Design_get_pwr_flex_with_shaving.pwr'\n",
    "\n",
    "pwr_data_new = load_pwr(pwr_path_new_design)\n",
    "# Print the names in the dict\n",
    "print(pwr_data.keys())\n",
    "\n",
    "\n",
    "# Extract relevant columns\n",
    "wind_speed_new = pwr_data_new['V_ms']  # V [m/s]\n",
    "rpm_new = pwr_data_new['Speed_rpm']         # Speed [rpm]\n",
    "thrust_new = pwr_data_new['T_kN']          # thrust [kN]\n",
    "power_new = pwr_data_new['P_kW']            # Power [kW]\n",
    "pitch_new = pwr_data_new['Pitch_deg']        # pitch [deg]\n",
    "CP_new = pwr_data_new['Cp']\n",
    "CT_new = pwr_data_new['Ct']\n",
    "\n",
    "# Calculate omega (rad/s) and TSR\n",
    "omega_new = np.pi * rpm_new / 30\n",
    "TSR_new = (omega_new * R) / wind_speed_new\n",
    "\n",
    "# Calculate the coefficients\n",
    "rho = 1.225                                 # typical value for density [kg/m^3]\n",
    "A = np.pi*R**2                              # rotor surface are\n",
    "# CT_new = thrust_new*1000/(0.5*rho*wind_speed_new**2*A)   # Thrust coefficient [-]\n",
    "# CP_new = power_new*1000/(0.5*rho*wind_speed_new**3*A)     # Power coefficient [-]"
   ],
   "outputs": [
    {
     "name": "stdout",
     "output_type": "stream",
     "text": [
      "dict_keys(['V_ms', 'P_kW', 'T_kN', 'Cp', 'Ct', 'Pitch_Q_Nm', 'Flap_M_kNm', 'Edge_M_kNm', 'Pitch_deg', 'Speed_rpm', 'Tip_x_m', 'Tip_y_m', 'Tip_z_m', 'J_rot_kgm2', 'J_DT_kgm2', 'Torsion_rad', 'Torque_kNm'])\n"
     ]
    }
   ],
   "execution_count": 56
  },
  {
   "metadata": {
    "ExecuteTime": {
     "end_time": "2024-12-12T14:29:55.516515Z",
     "start_time": "2024-12-12T14:29:55.510305Z"
    }
   },
   "cell_type": "code",
   "source": [
    "# Find the max Thrust and its corresponding wind speed\n",
    "max_thrust_index = np.argmax(thrust_new)\n",
    "max_thrust = thrust_new[max_thrust_index]\n",
    "max_wind_speed_new = wind_speed_new[max_thrust_index]\n",
    "print(max_wind_speed_new)"
   ],
   "outputs": [
    {
     "name": "stdout",
     "output_type": "stream",
     "text": [
      "11.0\n"
     ]
    }
   ],
   "execution_count": 57
  },
  {
   "metadata": {
    "ExecuteTime": {
     "end_time": "2024-12-12T14:36:21.404564Z",
     "start_time": "2024-12-12T14:36:21.393990Z"
    }
   },
   "cell_type": "code",
   "source": [
    "\"\"\"Data old design\"\"\"\n",
    "pwr_path_old_design = Path.cwd().parent / 'res_hawc2s' / 'Jim_Design_get_pwr_no_shaving.pwr'\n",
    "\n",
    "pwr_path_old_design = Path.cwd().parent.parent / 'Assignment_3' / 'res_hawc2s' / 'BB_redesign_hawc2s_ctrltune_ref.pwr'\n",
    "\n",
    "pwr_data_old = load_pwr(pwr_path_old_design)\n",
    "# Print the names in the dict\n",
    "pwr_data.keys()\n",
    "\n",
    "# Extract relevant columns\n",
    "wind_speed_old = pwr_data_old['V_ms']  # V [m/s]\n",
    "rpm_old = pwr_data_old['Speed_rpm']         # Speed [rpm]\n",
    "thrust_old = pwr_data_old['T_kN']          # Cp [-]\n",
    "power_old = pwr_data_old['P_kW']            # Power [kW]\n",
    "pitch_old = pwr_data_old['Pitch_deg']        # pitch [deg]\n",
    "CT_old = pwr_data_old['Ct']\n",
    "CP_old = pwr_data_old['Cp']\n",
    "\n",
    "# Calculate omega (rad/s) and TSR\n",
    "omega_old = np.pi * rpm_old / 30\n",
    "TSR_old = (omega_old * R) / wind_speed_old\n",
    "\n",
    "# Calculate the coefficients\n",
    "rho = 1.225                                 # typical value for density [kg/m^3]\n",
    "A = np.pi*R**2                              # rotor surface are\n",
    "# CT_old = thrust_old*1000/(0.5*rho*wind_speed_old**2*A)   # Thrust coefficient [-]\n",
    "# CP_old = power_old*1000/(0.5*rho*wind_speed_old**3*A)     # Power coefficient [-]"
   ],
   "outputs": [],
   "execution_count": 63
  },
  {
   "metadata": {
    "ExecuteTime": {
     "end_time": "2024-12-12T15:00:43.227172Z",
     "start_time": "2024-12-12T15:00:43.215930Z"
    }
   },
   "cell_type": "code",
   "source": [
    "\"\"\"DTU 10 MW Data\"\"\"\n",
    "# Path for the file\n",
    "pwr_path = Path.cwd().parent.parent / 'dtu_10mw' / 'res_hawc2s' / 'dtu_10mw_Power_flex_min_speed.pwr' \n",
    "\n",
    "# test_data_path+\"/DTU_10MW_RWT.pwr\"\n",
    "\n",
    "pwr_data_DTU = load_pwr(pwr_path)\n",
    "# Print the names in the dict\n",
    "pwr_data.keys()\n",
    "\n",
    "# Extract relevant columns\n",
    "wind_speed_DTU = pwr_data_DTU['V_ms']  # V [m/s]\n",
    "rpm_DTU = pwr_data_DTU['Speed_rpm']         # Speed [rpm]\n",
    "thrust_DTU = pwr_data_DTU['T_kN']          # Cp [-]\n",
    "power_DTU = pwr_data_DTU['P_kW']            # Power [kW]\n",
    "pitch_DTU = pwr_data_DTU['Pitch_deg']        # pitch [deg]\n",
    "CT_DTU = pwr_data_DTU['Ct']\n",
    "CP_DTU = pwr_data_DTU['Cp']\n",
    "\n",
    "# Calculate omega (rad/s) and TSR\n",
    "omega_DTU = np.pi * rpm_DTU / 30\n",
    "TSR_DTU = (omega_DTU * R) / wind_speed_DTU\n",
    "\n",
    "# Calculate the coefficients\n",
    "rho = 1.225                                 # typical value for density [kg/m^3]\n",
    "R_DTU = 89.166                  # radius from DTU 10 MW report\n",
    "A = np.pi*R_DTU**2                              # rotor surface are\n",
    "# CT_DTU = thrust_DTU*1000/(0.5*rho*wind_speed_DTU**2*A)   # Thrust coefficient [-]\n",
    "# CP_DTU = power_DTU*1000/(0.5*rho*wind_speed_DTU**3*A)     # Power coefficient [-]\n",
    "\n"
   ],
   "outputs": [],
   "execution_count": 67
  },
  {
   "metadata": {
    "ExecuteTime": {
     "end_time": "2024-12-12T15:00:45.099695Z",
     "start_time": "2024-12-12T15:00:43.891708Z"
    }
   },
   "cell_type": "code",
   "source": [
    "# Plot thrust vs wind speed\n",
    "plt.figure(figsize=(5, 3))\n",
    "\n",
    "plt.plot(wind_speed_old, thrust_old,label='Old Design')\n",
    "plt.plot(wind_speed_DTU, thrust_DTU,label='DTU 10MW')\n",
    "plt.plot(wind_speed_new, thrust_new,label='New Design')\n",
    "plt.xlabel('Wind speed [m/s]')\n",
    "plt.ylabel('Thrust [kN]')\n",
    "plt.tick_params(axis='both',bottom=True, top=True, left=True, right=True, direction='in', which='major')\n",
    "plt.grid(linestyle='--', linewidth=0.5, alpha=0.7)\n",
    "plt.legend(loc='upper right')\n",
    "plt.savefig('../Plots/Thrust_V_Comparison' + '.pdf', dpi=300, bbox_inches='tight')\n",
    "\n",
    "# Plot Ct vs wind speed\n",
    "plt.figure(figsize=(5, 3))\n",
    "plt.plot(wind_speed_old, CT_old, label= 'Old Design')\n",
    "plt.plot(wind_speed_DTU, CT_DTU,label='DTU 10MW')\n",
    "plt.plot(wind_speed_new, CT_new, label='New Design')\n",
    "plt.xlabel('Wind speed [m/s]')\n",
    "plt.ylabel(r'$C_T$ [-]')\n",
    "plt.tick_params(axis='both',bottom=True, top=True, left=True, right=True, direction='in', which='major')\n",
    "plt.grid(linestyle='--', linewidth=0.5, alpha=0.7)\n",
    "plt.legend(loc='upper right')\n",
    "plt.savefig('../Plots/CT_V_Comparison' + '.pdf', dpi=300, bbox_inches='tight')"
   ],
   "outputs": [],
   "execution_count": 68
  },
  {
   "metadata": {
    "ExecuteTime": {
     "end_time": "2024-12-12T15:00:46.389248Z",
     "start_time": "2024-12-12T15:00:45.110335Z"
    }
   },
   "cell_type": "code",
   "source": [
    "# Plot power vs wind speed\n",
    "plt.figure(figsize=(5, 3))\n",
    "\n",
    "plt.plot(wind_speed_DTU, power_DTU,label='DTU 10 MW')\n",
    "plt.plot(wind_speed_old, power_old,label='Old Design')\n",
    "plt.plot(wind_speed_new, power_new,label='New Design')\n",
    "plt.xlabel('Wind speed [m/s]')\n",
    "plt.ylabel('Power [kW]')\n",
    "plt.tick_params(axis='both',bottom=True, top=True, left=True, right=True, direction='in', which='major')\n",
    "plt.grid(linestyle='--', linewidth=0.5, alpha=0.7)\n",
    "plt.legend(loc='upper right')\n",
    "plt.savefig('../Plots/Power_V_Comparison' + '.pdf', dpi=300, bbox_inches='tight')\n",
    "\n",
    "# Plot Ct vs wind speed\n",
    "plt.figure(figsize=(5, 3))\n",
    "plt.plot(wind_speed_old, CP_old, label= 'Old Design')\n",
    "plt.plot(wind_speed_DTU, CP_DTU, label= 'DTU 10 MW')\n",
    "plt.plot(wind_speed_new, CP_new, label='New Design')\n",
    "plt.xlabel('Wind speed [m/s]')\n",
    "plt.ylabel(r'$C_P$ [-]')\n",
    "plt.tick_params(axis='both',bottom=True, top=True, left=True, right=True, direction='in', which='major')\n",
    "plt.grid(linestyle='--', linewidth=0.5, alpha=0.7)\n",
    "plt.legend(loc='upper right')\n",
    "plt.savefig('../Plots/CP_V_Comparison' + '.pdf', dpi=300, bbox_inches='tight')"
   ],
   "outputs": [],
   "execution_count": 69
  },
  {
   "metadata": {
    "ExecuteTime": {
     "end_time": "2024-12-12T14:29:58.057738Z",
     "start_time": "2024-12-12T14:29:58.052729Z"
    }
   },
   "cell_type": "code",
   "source": [
    "\"\"\"Comparison max\"\"\"\n",
    "\n",
    "print(max(thrust_old))\n",
    "print(max(thrust_new))"
   ],
   "outputs": [
    {
     "name": "stdout",
     "output_type": "stream",
     "text": [
      "1807.283522\n",
      "1311.489786\n"
     ]
    }
   ],
   "execution_count": 62
  },
  {
   "metadata": {
    "ExecuteTime": {
     "end_time": "2024-12-12T14:29:58.063119Z",
     "start_time": "2024-12-12T14:29:58.059269Z"
    }
   },
   "cell_type": "code",
   "source": "",
   "outputs": [],
   "execution_count": 62
  },
  {
   "metadata": {
    "ExecuteTime": {
     "end_time": "2024-12-12T14:29:58.068016Z",
     "start_time": "2024-12-12T14:29:58.064126Z"
    }
   },
   "cell_type": "code",
   "source": "",
   "outputs": [],
   "execution_count": 62
  },
  {
   "metadata": {
    "ExecuteTime": {
     "end_time": "2024-12-12T14:29:58.072888Z",
     "start_time": "2024-12-12T14:29:58.069024Z"
    }
   },
   "cell_type": "code",
   "source": "",
   "outputs": [],
   "execution_count": 62
  },
  {
   "metadata": {
    "ExecuteTime": {
     "end_time": "2024-12-12T14:29:58.077517Z",
     "start_time": "2024-12-12T14:29:58.073900Z"
    }
   },
   "cell_type": "code",
   "source": "",
   "outputs": [],
   "execution_count": 62
  }
 ],
 "metadata": {
  "kernelspec": {
   "display_name": "Python 3",
   "language": "python",
   "name": "python3"
  },
  "language_info": {
   "codemirror_mode": {
    "name": "ipython",
    "version": 3
   },
   "file_extension": ".py",
   "mimetype": "text/x-python",
   "name": "python",
   "nbconvert_exporter": "python",
   "pygments_lexer": "ipython3",
   "version": "3.11.9"
  },
  "orig_nbformat": 4
 },
 "nbformat": 4,
 "nbformat_minor": 2
}
