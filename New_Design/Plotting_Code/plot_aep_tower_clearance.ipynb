{
 "cells": [
  {
   "cell_type": "code",
   "id": "initial_id",
   "metadata": {
    "collapsed": true,
    "ExecuteTime": {
     "end_time": "2024-12-13T15:38:01.284944Z",
     "start_time": "2024-12-13T15:37:59.735967Z"
    }
   },
   "source": [
    "from lacbox.io import load_stats, load_oper\n",
    "import matplotlib.pyplot as plt\n",
    "import numpy as np\n",
    "from pathlib import Path\n",
    "\n",
    "BB_PATH = Path.cwd() / 'Jim_Turb_stats.csv'  # path to mean steady stats\n",
    "STATS_PATH = Path.cwd().parent.parent / 'Assignment_4' / 'dtu_10MW' / 'turb' / 'dtu_10mw_turb_stats.hdf5'  # path to mean steady stats\n",
    "SUBFOLDER = 'tca' "
   ],
   "outputs": [],
   "execution_count": 2
  },
  {
   "metadata": {
    "ExecuteTime": {
     "end_time": "2024-12-13T15:38:01.624442Z",
     "start_time": "2024-12-13T15:38:01.286962Z"
    }
   },
   "cell_type": "code",
   "source": [
    "# load the HAWC2 data from the stats file. Isolate the simulations with no tilt.\n",
    "df, wsps = load_stats(STATS_PATH, subfolder=SUBFOLDER, statstype='turb')\n",
    "df_BB, wsps_BB = load_stats(BB_PATH, subfolder=SUBFOLDER, statstype='turb')\n",
    "\n",
    "SEEDS = 6\n",
    "\n"
   ],
   "id": "8f05f0eff26df962",
   "outputs": [],
   "execution_count": 3
  },
  {
   "metadata": {
    "ExecuteTime": {
     "end_time": "2024-12-13T15:38:01.634624Z",
     "start_time": "2024-12-13T15:38:01.626457Z"
    }
   },
   "cell_type": "code",
   "source": [
    "def extract_and_order_statistics(wsps, chan_df, seeds):\n",
    "    \"\"\"\n",
    "    Extract and order:\n",
    "     - wsp, max, mean, min for the points\n",
    "     - wsp, mean_max, mean_mean, mean_min for the mean lines\n",
    "    \"\"\"\n",
    "\n",
    "    # extract hawc2 wind and channel to plot from the HAWC2 stats\n",
    "    val_wsp, val_max, val_mean, val_min = chan_df['wsp'], chan_df['max'], chan_df['mean'], chan_df['min']\n",
    "    val_wsp, val_max, val_mean, val_min = np.array(val_wsp), np.array(val_max), np.array(val_mean), np.array(val_min)\n",
    "    i_val = np.argsort(val_wsp)\n",
    "\n",
    "    # Get mean of max/mean/min\n",
    "    mean_max = np.average(val_max[i_val].reshape(-1, seeds), axis=1)\n",
    "    mean_mean = np.average(val_mean[i_val].reshape(-1, seeds), axis=1)\n",
    "    mean_min = np.average(val_min[i_val].reshape(-1, seeds), axis=1)\n",
    "\n",
    "    points = {\n",
    "        'wsp': val_wsp[i_val],\n",
    "        'max': val_max[i_val],\n",
    "        'mean': val_mean[i_val],\n",
    "        'min': val_min[i_val]\n",
    "    }\n",
    "\n",
    "    lines = {\n",
    "        'wsp': wsps,\n",
    "        'max': mean_max,\n",
    "        'mean': mean_mean,\n",
    "        'min': mean_min\n",
    "    }\n",
    "\n",
    "    return points, lines"
   ],
   "id": "36dc4b04532ddfe1",
   "outputs": [],
   "execution_count": 4
  },
  {
   "metadata": {
    "ExecuteTime": {
     "end_time": "2024-12-13T15:38:01.643616Z",
     "start_time": "2024-12-13T15:38:01.639640Z"
    }
   },
   "cell_type": "code",
   "source": "",
   "id": "6842e9d14b24be19",
   "outputs": [],
   "execution_count": 4
  },
  {
   "metadata": {
    "ExecuteTime": {
     "end_time": "2024-12-13T15:38:01.664333Z",
     "start_time": "2024-12-13T15:38:01.645624Z"
    }
   },
   "cell_type": "code",
   "source": [
    "# isolate the tower clearance channel data\n",
    "# chan_df = df.filter_channel(113, 'DLL inp   5')\n",
    "chan_df = df.filter_channel(0, {0 :'DLL :  5 inpvec :   1  min. distance bladetips tower [m]'})\n",
    "\n",
    "# Filter rows where 'desc' column matches the specific name\n",
    "filtered_df = df[df['desc'] == 'DLL :  5 inpvec :   1  min. distance bladetips tower [m]']\n",
    "\n",
    "# Display the filtered dataframe\n",
    "# print(filtered_df)\n",
    "\n",
    "\n",
    "tower_clearance = filtered_df['min']\n",
    "# tower_clearance = chan_df_wtf['min']\n",
    "\n",
    "\n",
    "tower_clearance_array = np.array(tower_clearance)\n",
    "\n",
    "print(tower_clearance_array)\n",
    "\n",
    "print(tower_clearance_array.min())\n"
   ],
   "id": "a7ea75753c947705",
   "outputs": [
    {
     "name": "stdout",
     "output_type": "stream",
     "text": [
      "[11.26050377  8.58535767 13.35652161 15.88511658 11.62287807 14.7456665\n",
      "  6.63629055  9.70432186  7.31421328 15.27006721  8.53271389  8.11631489\n",
      "  9.5426693  13.55875397  8.97152424 10.06505871 12.0189867  12.25952244\n",
      "  9.22528267 12.11332989 14.36962605 11.56655216  8.8756752  12.18406105\n",
      " 12.74793816  8.55959034 13.33467197  8.73872757 13.02907181 10.95130634\n",
      " 15.46075344 14.45940685 13.05881882  5.96598768 14.72356415 11.34911346\n",
      " 10.58613777 13.28807354 14.18466854 13.11685848 15.10324764  8.91434002\n",
      "  8.48191643 13.01204491  9.86104107 12.22253609  8.42437458 14.47663593\n",
      " 13.89804745 10.95097446  9.14496899 12.55976772 12.9944849  12.29644871\n",
      " 15.04215431 12.98379803 13.84835243  7.29614544 11.48008823  8.67921352\n",
      " 13.38647366  9.54003143 11.8475275  13.50693321  9.64986229 10.46387482\n",
      " 14.41237926 13.1461544  10.96539879 14.3999052  13.17383385 13.71437645\n",
      "  8.99560261  7.51823568  9.05344677 13.98763943 14.69485283  9.55340481\n",
      " 11.51403427 14.81953049 12.43291283 11.12916279 10.66204453 14.95792961\n",
      " 12.85982418 13.71185207  9.1716423   8.58725834 11.59369469 15.11587238\n",
      " 13.28755379 12.32635498 13.97977352 11.25212002  9.22226524 12.71318626\n",
      " 12.08333874 11.42251968 14.7403307   8.9510746  14.51325607 12.16541576\n",
      " 11.64782238 12.55965805  7.71367264 13.95306396 10.09043121 13.88657188\n",
      " 11.86539364  9.04754162 12.14645576  8.24108219  8.75492001 14.45446301\n",
      " 13.28849316 12.26227283 12.81413078 16.1129303   8.26522827  8.54723835]\n",
      "5.965987682342529\n"
     ]
    }
   ],
   "execution_count": 5
  },
  {
   "metadata": {
    "ExecuteTime": {
     "end_time": "2024-12-13T15:38:01.690567Z",
     "start_time": "2024-12-13T15:38:01.668353Z"
    }
   },
   "cell_type": "code",
   "source": [
    "chan_df_BB = df_BB.filter_channel(0, {0 :'DLL :  5 inpvec :   1  min. distance bladetips tower [m]'})\n",
    "\n",
    "# Filter rows where 'desc' column matches the specific name\n",
    "filtered_df_BB = df_BB[df_BB['desc'] == 'DLL :  5 inpvec :   1  min. distance bladetips tower [m]']\n",
    "\n",
    "# Display the filtered dataframe\n",
    "# print(filtered_df_BB)\n",
    "\n",
    "\n",
    "tower_clearance = filtered_df_BB['min']\n",
    "# tower_clearance = chan_df_BB_wtf['min']\n",
    "\n",
    "\n",
    "tower_clearance_array = np.array(tower_clearance)\n",
    "\n",
    "print(tower_clearance_array)\n",
    "\n",
    "print(tower_clearance_array.min())"
   ],
   "id": "7dc7643c88dfe23",
   "outputs": [
    {
     "name": "stdout",
     "output_type": "stream",
     "text": [
      "[17.38776398 15.29385757 10.30334759 13.37164497 12.49907875 12.47699451\n",
      " 13.05428314 12.46358871 10.42745018 11.65566826 10.52316475 13.9858408\n",
      " 13.0046072  13.58682251 14.07422829 12.44978142 10.59563065 12.45214558\n",
      " 10.02569103 12.25978565  9.4423914  14.8324461  13.34300327 13.79765034\n",
      " 13.63730907 12.2434473  12.93151093 12.93102551 12.21974087 10.23493767\n",
      "  9.24113655 10.97640514  8.62154579 11.76810646 10.85473824 13.85712147\n",
      "  9.16654587  8.64637184 10.03122425 10.41014004 13.17167568 10.12596226\n",
      " 11.47081375 11.024436   13.10842609 13.72484589 13.02385998 11.19712162\n",
      " 12.29446507 12.64820385 10.66957664 12.08338356 12.85162544 13.99434853\n",
      " 11.96299267 14.12641621 12.31027508 13.2022295  15.40812016 15.04883003\n",
      " 14.97505188  8.5122242  13.15448284 15.35803699 14.33728695  8.63824368\n",
      " 13.46494675 15.03320408 15.03869438  9.34385777 14.46632862  9.90670586\n",
      " 15.55007076 12.58314705  8.67446518 11.67325592 11.48693466 15.67854595\n",
      " 13.90610218 12.46902275 15.34857368  9.40148449  8.84064674 12.41963577\n",
      "  9.14589596 13.52567196 13.72502327  9.15793419 11.02550793 13.56346512\n",
      " 13.99260902  9.97921848 14.79231167  9.86772537  9.76669312 15.01754189\n",
      " 10.48446083 15.82500362 11.26678181 14.99762154 13.76660252 12.86732292\n",
      " 13.19668674 10.94580555 11.21577644 13.33699799 15.32121849  9.21780396\n",
      " 12.56384373 15.79158878 14.29060841 12.00223541  9.95119476 13.72955418\n",
      " 13.91788197 13.88985157  9.34984398 16.34675789 14.38245773 10.0106287 ]\n",
      "8.512224197387695\n"
     ]
    }
   ],
   "execution_count": 6
  },
  {
   "metadata": {
    "ExecuteTime": {
     "end_time": "2024-12-13T15:38:01.758075Z",
     "start_time": "2024-12-13T15:38:01.692577Z"
    }
   },
   "cell_type": "code",
   "source": [
    "CHAN_DESCS = {'TbFA': 'momentmx mbdy:tower nodenr:   1',\n",
    "              'TbSS': 'momentmy mbdy:tower nodenr:   1',\n",
    "              'YbTilt': 'momentmx mbdy:tower nodenr:  11',\n",
    "              'YbRoll': 'momentmy mbdy:tower nodenr:  11',\n",
    "              'ShftTrs': 'momentmz mbdy:shaft nodenr:   4',\n",
    "              'OoPBRM': 'momentmx mbdy:blade1 nodenr:   1 coo: hub1',\n",
    "              'IPBRM': 'momentmy mbdy:blade1 nodenr:   1 coo: hub1',\n",
    "              'FlpBRM': 'momentmx mbdy:blade1 nodenr:   1 coo: blade1',\n",
    "              'EdgBRM': 'momentmy mbdy:blade1 nodenr:   1 coo: blade1',\n",
    "              'OoPHub': 'momentmx mbdy:hub1 nodenr:   1 coo: hub1',\n",
    "              'IPHub': 'momentmy mbdy:hub1 nodenr:   1 coo: hub1',\n",
    "              }\n",
    "\n",
    "# what channels we want to plot\n",
    "chan_ids = ['TbFA', 'TbSS',\n",
    "            'YbTilt', 'YbRoll', 'ShftTrs', 'OoPBRM', 'IPBRM']\n",
    "\n",
    "max_dict = {}\n",
    "min_dict = {}\n",
    "mean_dict = {}\n",
    "for iplot, chan_id in enumerate(chan_ids):\n",
    "    \n",
    "    chan_df = df.filter_channel(chan_id, CHAN_DESCS)\n",
    "    \n",
    "    # Doing this works for all channel, but not the tip clearance, because f me\n",
    "    # channel_wsp = chan_df['wsp']\n",
    "    # channel_max = chan_df['max']\n",
    "    # channel_min = chan_df['min']\n",
    "    # channel_mean = chan_df['mean']\n",
    "    \n",
    "    points_BB, lines_BB = extract_and_order_statistics(wsps_BB, chan_df, SEEDS)\n",
    "    \n",
    "    max_val = np.array(lines_BB['max']).max()\n",
    "    min_val = np.array(lines_BB['min']).min()\n",
    "    mean_val = np.array(lines_BB['mean']).mean()\n",
    "    \n",
    "    # max_val = np.array(channel_mean).max()\n",
    "    max_dict[chan_id]  =  max_val * 1.35 * 1.25\n",
    "    min_dict[chan_id]  =  min_val * 1.35 * 1.25\n",
    "    mean_dict[chan_id] = mean_val\n",
    "\n",
    "print(max_dict)\n",
    "print(min_dict)\n",
    "print(mean_dict)\n",
    "\n",
    "\n",
    "# Initialize the new dictionary for absolute maximum values\n",
    "absolute_max_dict = {}\n",
    "\n",
    "# Loop through each key in max_dict (assuming keys in max_dict and min_dict are identical)\n",
    "for key in max_dict.keys():\n",
    "    # Calculate the absolute maximum value between max_dict and min_dict for each key\n",
    "    absolute_max_dict[key] = max(abs(max_dict[key]), abs(min_dict[key]))\n",
    "\n",
    "# Print the resulting dictionary with absolute maximum values\n",
    "print(absolute_max_dict)\n"
   ],
   "id": "55fd6401b50103f0",
   "outputs": [
    {
     "name": "stdout",
     "output_type": "stream",
     "text": [
      "{'TbFA': 364297.47363281256, 'TbSS': 117720.31530761719, 'YbTilt': 54987.89062500001, 'YbRoll': 23907.457946777344, 'ShftTrs': -685.476744890213, 'OoPBRM': 27557.119445800785, 'IPBRM': 40770.70642089844}\n",
      "{'TbFA': -51051.62658691406, 'TbSS': -51982.17736816406, 'YbTilt': -38194.008178710945, 'YbRoll': 239.45605301856997, 'ShftTrs': -20365.171325683594, 'OoPBRM': -72275.13830566406, 'IPBRM': -27472.3678894043}\n",
      "{'TbFA': 96549.52281564193, 'TbSS': 12733.729012465428, 'YbTilt': 1867.128824448829, 'YbRoll': 9102.224890923591, 'ShftTrs': -8842.391787113766, 'OoPBRM': -15499.956871376378, 'IPBRM': 2753.3949561108216}\n",
      "{'TbFA': 364297.47363281256, 'TbSS': 117720.31530761719, 'YbTilt': 54987.89062500001, 'YbRoll': 23907.457946777344, 'ShftTrs': 20365.171325683594, 'OoPBRM': 72275.13830566406, 'IPBRM': 40770.70642089844}\n"
     ]
    }
   ],
   "execution_count": 7
  },
  {
   "metadata": {
    "ExecuteTime": {
     "end_time": "2024-12-13T15:38:01.763565Z",
     "start_time": "2024-12-13T15:38:01.760085Z"
    }
   },
   "cell_type": "code",
   "source": "",
   "id": "bf1099b6cbd1cf99",
   "outputs": [],
   "execution_count": 7
  }
 ],
 "metadata": {
  "kernelspec": {
   "display_name": "Python 3",
   "language": "python",
   "name": "python3"
  },
  "language_info": {
   "codemirror_mode": {
    "name": "ipython",
    "version": 2
   },
   "file_extension": ".py",
   "mimetype": "text/x-python",
   "name": "python",
   "nbconvert_exporter": "python",
   "pygments_lexer": "ipython2",
   "version": "2.7.6"
  }
 },
 "nbformat": 4,
 "nbformat_minor": 5
}
