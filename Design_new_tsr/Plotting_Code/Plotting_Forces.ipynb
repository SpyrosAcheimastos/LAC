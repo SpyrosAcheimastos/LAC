{
 "cells": [
  {
   "cell_type": "code",
   "execution_count": null,
   "id": "initial_id",
   "metadata": {
    "collapsed": true
   },
   "outputs": [],
   "source": [
    "from lacbox.io import load_pwr, load_ind, load_inds\n",
    "from lacbox.test import test_data_path\n",
    "import matplotlib.pyplot as plt\n",
    "from pathlib import Path\n",
    "from lacbox.io import load_ae\n",
    "import numpy as np\n",
    "from Assignment_1.Assignment_1.Part_2_aero_design_functions import single_point_design, get_design_functions\n",
    "\n",
    "\n",
    "\n",
    "\n"
   ]
  },
  {
   "metadata": {},
   "cell_type": "code",
   "outputs": [],
   "execution_count": null,
   "source": "",
   "id": "304e485a209f04ff"
  }
 ],
 "metadata": {
  "kernelspec": {
   "display_name": "Python 3",
   "language": "python",
   "name": "python3"
  },
  "language_info": {
   "codemirror_mode": {
    "name": "ipython",
    "version": 2
   },
   "file_extension": ".py",
   "mimetype": "text/x-python",
   "name": "python",
   "nbconvert_exporter": "python",
   "pygments_lexer": "ipython2",
   "version": "2.7.6"
  }
 },
 "nbformat": 4,
 "nbformat_minor": 5
}
