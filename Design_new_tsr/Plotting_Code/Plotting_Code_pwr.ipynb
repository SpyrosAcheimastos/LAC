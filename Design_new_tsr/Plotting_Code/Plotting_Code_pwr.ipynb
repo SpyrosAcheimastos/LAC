{
 "cells": [
  {
   "attachments": {},
   "cell_type": "markdown",
   "metadata": {},
   "source": [
    "# Import modules"
   ]
  },
  {
   "metadata": {
    "ExecuteTime": {
     "end_time": "2024-11-25T14:36:31.487959Z",
     "start_time": "2024-11-25T14:36:31.483352Z"
    }
   },
   "cell_type": "code",
   "source": [
    "from lacbox.io import load_pwr, load_ind, load_inds\n",
    "from lacbox.test import test_data_path\n",
    "import matplotlib.pyplot as plt\n",
    "from pathlib import Path\n",
    "from lacbox.io import load_ae\n",
    "import numpy as np\n",
    "from Assignment_1.Assignment_1.Part_2_aero_design_functions import single_point_design, get_design_functions\n",
    "\n",
    "\n",
    "\n"
   ],
   "outputs": [],
   "execution_count": 18
  },
  {
   "metadata": {
    "ExecuteTime": {
     "end_time": "2024-11-25T14:36:31.558547Z",
     "start_time": "2024-11-25T14:36:31.552981Z"
    }
   },
   "cell_type": "code",
   "source": [
    "# # Define the list of paths\n",
    "# res_path = Path.cwd().parent.parent / 'res_hawc2s'\n",
    "# print(res_path)\n",
    "# \n",
    "# ind_paths = [\n",
    "#     res_path / 'BB_redesign_hawc2s_multitsr_u8000.ind',\n",
    "#     res_path / 'BB_redesign_hawc2s_multitsr_u8001.ind',\n",
    "#     res_path / 'BB_redesign_hawc2s_multitsr_u8002.ind',\n",
    "#     res_path / 'BB_redesign_hawc2s_multitsr_u8003.ind',\n",
    "#     res_path / 'BB_redesign_hawc2s_multitsr_u8004.ind',\n",
    "#     res_path / 'BB_redesign_hawc2s_multitsr_u8005.ind',\n",
    "#     # res_path / 'BB_redesign_hawc2s_multitsr_u8006.ind',\n",
    "#     res_path / 'BB_redesign_hawc2s_multitsr_u8007.ind',\n",
    "#     res_path / 'BB_redesign_hawc2s_multitsr_u8008.ind',\n",
    "#     res_path / 'BB_redesign_hawc2s_multitsr_u8009.ind',\n",
    "#     res_path / 'BB_redesign_hawc2s_multitsr_u8010.ind',\n",
    "#     res_path / 'BB_redesign_hawc2s_multitsr_u8011.ind',\n",
    "#     res_path / 'BB_redesign_hawc2s_multitsr_u8012.ind',\n",
    "# ]"
   ],
   "outputs": [],
   "execution_count": 19
  },
  {
   "metadata": {
    "ExecuteTime": {
     "end_time": "2024-11-25T14:36:31.623882Z",
     "start_time": "2024-11-25T14:36:31.617202Z"
    }
   },
   "cell_type": "code",
   "source": [
    "# # Number of subplots (3 rows, 2 columns)\n",
    "# n_rows, n_cols = 4, 2\n",
    "# \n",
    "# # Create a figure and a set of subplots\n",
    "# fig, axs = plt.subplots(n_rows, n_cols, figsize=(15, 12))\n",
    "# \n",
    "# for ind_path in ind_paths:\n",
    "#     ind_data = load_ind(ind_path)\n",
    "# \n",
    "#     # Extracting wind speed from the filename\n",
    "#     wind_speed = ind_path.stem.split('_u')[1]  # Extracts the part after '__u'\n",
    "#     wind_speed = f'U = {wind_speed[:1]}.{wind_speed[1:]} m/s'  # Format as U = x.xxx m/s\n",
    "# \n",
    "#     # Plotting each parameter on the same subplot\n",
    "#     axs[0, 0].plot(ind_data[\"s_m\"], ind_data[\"a\"], label=wind_speed)\n",
    "#     axs[0, 1].plot(ind_data[\"s_m\"], ind_data[\"ap\"], label=wind_speed)\n",
    "#     axs[1, 0].plot(ind_data[\"s_m\"], ind_data[\"Cl\"], label=wind_speed)\n",
    "#     axs[1, 1].plot(ind_data[\"s_m\"], ind_data[\"Cd\"], label=wind_speed)\n",
    "#     axs[2, 0].plot(ind_data[\"s_m\"], ind_data[\"CP\"], label=wind_speed)\n",
    "#     axs[2, 1].plot(ind_data[\"s_m\"], ind_data[\"CT\"], label=wind_speed)\n",
    "#     axs[3, 0].plot(ind_data[\"s_m\"], ind_data[\"aoa_rad\"], label=wind_speed)\n",
    "#     axs[3, 1].plot(ind_data[\"s_m\"], ind_data[\"flow_angle_rad\"], label=wind_speed)\n",
    "# \n",
    "# # Setting labels for all subplots\n",
    "# axs[0, 0].set_ylabel(\"ax.-ind. ($a$) [-]\")\n",
    "# axs[0, 1].set_ylabel(\"tan.-ind. ($a_p$) [-]\")\n",
    "# axs[1, 0].set_ylabel(\"$C_l$ [-]\")\n",
    "# axs[1, 1].set_ylabel(\"$C_d$ [-]\")\n",
    "# axs[2, 0].set_ylabel(\"Blade-span ($s$) [m]\")\n",
    "# axs[2, 0].set_ylabel(\"local-$C_P$ [-]\")\n",
    "# axs[2, 1].set_ylabel(\"Blade-span ($s$) [m]\")\n",
    "# axs[2, 1].set_ylabel(\"local-$C_T$ [-]\")\n",
    "# \n",
    "# # Add legends to each subplot\n",
    "# for ax in axs.flat:\n",
    "#     ax.tick_params(axis='both', bottom=True, top=True, left=True, right=True, direction='in', which='major')\n",
    "#     ax.grid(linestyle='--', linewidth=1, alpha=0.7)\n",
    "# \n",
    "# ax.legend()\n",
    "# # Adjust layout for better spacing\n",
    "# plt.tight_layout()\n",
    "# plt.show()"
   ],
   "outputs": [],
   "execution_count": 20
  },
  {
   "metadata": {
    "ExecuteTime": {
     "end_time": "2024-11-25T14:36:31.667836Z",
     "start_time": "2024-11-25T14:36:31.656929Z"
    }
   },
   "cell_type": "code",
   "source": [
    "# Plotting power for multiple tsr\n",
    "\n",
    "# Path for the file\n",
    "pwr_path = Path.cwd().parent / 'res_hawc2s' / 'BB_redesign_compute_rigid_opt.pwr' \n",
    "# Load the data\n",
    "pwr_data = load_pwr(pwr_path)\n",
    "# Print the names in the dict\n",
    "pwr_data.keys()\n"
   ],
   "outputs": [
    {
     "data": {
      "text/plain": [
       "dict_keys(['V_ms', 'P_kW', 'T_kN', 'Cp', 'Ct', 'Pitch_Q_Nm', 'Flap_M_kNm', 'Edge_M_kNm', 'Pitch_deg', 'Speed_rpm', 'Tip_x_m', 'Tip_y_m', 'Tip_z_m', 'J_rot_kgm2', 'J_DT_kgm2', 'Torsion_rad', 'Torque_kNm'])"
      ]
     },
     "execution_count": 21,
     "metadata": {},
     "output_type": "execute_result"
    }
   ],
   "execution_count": 21
  },
  {
   "metadata": {
    "ExecuteTime": {
     "end_time": "2024-11-25T14:36:32.508114Z",
     "start_time": "2024-11-25T14:36:31.734852Z"
    }
   },
   "cell_type": "code",
   "source": [
    "fig, axs = plt.subplots(2, 2)\n",
    "\n",
    "# Power\n",
    "axs[0, 0].plot(pwr_data[\"Speed_rpm\"], pwr_data[\"P_kW\"])\n",
    "axs[0, 0].set_ylabel(\"Power [kW]\")\n",
    "# Thrust\n",
    "axs[0, 1].plot(pwr_data[\"Speed_rpm\"], pwr_data[\"T_kN\"])\n",
    "axs[0, 1].set_ylabel(\"Thrust [kN]\")\n",
    "# CP\n",
    "axs[1, 0].plot(pwr_data[\"Speed_rpm\"], pwr_data[\"Cp\"])\n",
    "axs[1, 0].set_xlabel(\"Rotor-speed $\\omega$ [m/s]\")\n",
    "axs[1, 0].set_ylabel(\"Power-Coefficient $C_P$ [-]\")\n",
    "# CT\n",
    "axs[1, 1].plot(pwr_data[\"Speed_rpm\"], pwr_data[\"Ct\"])\n",
    "axs[1, 1].set_xlabel(\"Rotor-speed $\\omega$ [m/s]\")\n",
    "axs[1, 1].set_ylabel(\"Thrust-Coefficient $C_T$ [-]\")\n",
    "\n",
    "fig.tight_layout()"
   ],
   "outputs": [
    {
     "name": "stderr",
     "output_type": "stream",
     "text": [
      "<>:11: SyntaxWarning: invalid escape sequence '\\o'\n",
      "<>:15: SyntaxWarning: invalid escape sequence '\\o'\n",
      "<>:11: SyntaxWarning: invalid escape sequence '\\o'\n",
      "<>:15: SyntaxWarning: invalid escape sequence '\\o'\n",
      "C:\\Users\\jimwi\\AppData\\Local\\Temp\\ipykernel_3200\\1915625111.py:11: SyntaxWarning: invalid escape sequence '\\o'\n",
      "  axs[1, 0].set_xlabel(\"Rotor-speed $\\omega$ [m/s]\")\n",
      "C:\\Users\\jimwi\\AppData\\Local\\Temp\\ipykernel_3200\\1915625111.py:15: SyntaxWarning: invalid escape sequence '\\o'\n",
      "  axs[1, 1].set_xlabel(\"Rotor-speed $\\omega$ [m/s]\")\n"
     ]
    },
    {
     "data": {
      "text/plain": [
       "<Figure size 640x480 with 4 Axes>"
      ],
      "image/png": "[encoded data removed]"
     },
     "metadata": {},
     "output_type": "display_data"
    }
   ],
   "execution_count": 22
  },
  {
   "metadata": {
    "ExecuteTime": {
     "end_time": "2024-11-25T14:36:32.515226Z",
     "start_time": "2024-11-25T14:36:32.510145Z"
    }
   },
   "cell_type": "code",
   "source": [
    "# # Side-by-side plots of the HAWC2S lift coefficient and the design lift coefficient versus relative thickness (left plot) and versus radius (right plot) for design pitch and design TSR\n",
    "# \n",
    "# BB_ind_file_path = Path.cwd().parent.parent / 'res_hawc2s' / 'BB_redesign_hawc2s_multitsr_u8013.ind'\n",
    "# \n",
    "# # Load the data\n",
    "# ind_data = load_ind(BB_ind_file_path)\n",
    "# # Print the names in the dict\n",
    "# print(ind_data.keys())\n",
    "# \n",
    "# print(ind_data['s_m'])\n",
    "# print(ind_data['Cl'])"
   ],
   "outputs": [],
   "execution_count": 23
  },
  {
   "metadata": {
    "ExecuteTime": {
     "end_time": "2024-11-25T14:36:32.609104Z",
     "start_time": "2024-11-25T14:36:32.517252Z"
    }
   },
   "cell_type": "code",
   "source": [
    "\n",
    "ae_path = Path.cwd().parent.parent / 'data'  / 'DTU_10MW_RWT_ae.dat'\n",
    "ae = load_ae(ae_path)\n",
    "r, chord_list, tc_list, pcset = load_ae(ae_path, unpack=True)\n",
    "\n",
    "Cl_interpolated = np.interp(r, ind_data[\"s_m\"], ind_data[\"Cl\"])\n",
    "\n",
    "print(Cl_interpolated)\n"
   ],
   "outputs": [
    {
     "ename": "FileNotFoundError",
     "evalue": "C:\\Users\\jimwi\\PycharmProjects\\LAC\\LAC\\data\\DTU_10MW_RWT_ae.dat not found.",
     "output_type": "error",
     "traceback": [
      "\u001B[1;31m---------------------------------------------------------------------------\u001B[0m",
      "\u001B[1;31mFileNotFoundError\u001B[0m                         Traceback (most recent call last)",
      "Cell \u001B[1;32mIn[24], line 2\u001B[0m\n\u001B[0;32m      1\u001B[0m ae_path \u001B[38;5;241m=\u001B[39m Path\u001B[38;5;241m.\u001B[39mcwd()\u001B[38;5;241m.\u001B[39mparent\u001B[38;5;241m.\u001B[39mparent \u001B[38;5;241m/\u001B[39m \u001B[38;5;124m'\u001B[39m\u001B[38;5;124mdata\u001B[39m\u001B[38;5;124m'\u001B[39m  \u001B[38;5;241m/\u001B[39m \u001B[38;5;124m'\u001B[39m\u001B[38;5;124mDTU_10MW_RWT_ae.dat\u001B[39m\u001B[38;5;124m'\u001B[39m\n\u001B[1;32m----> 2\u001B[0m ae \u001B[38;5;241m=\u001B[39m \u001B[43mload_ae\u001B[49m\u001B[43m(\u001B[49m\u001B[43mae_path\u001B[49m\u001B[43m)\u001B[49m\n\u001B[0;32m      3\u001B[0m r, chord_list, tc_list, pcset \u001B[38;5;241m=\u001B[39m load_ae(ae_path, unpack\u001B[38;5;241m=\u001B[39m\u001B[38;5;28;01mTrue\u001B[39;00m)\n\u001B[0;32m      5\u001B[0m Cl_interpolated \u001B[38;5;241m=\u001B[39m np\u001B[38;5;241m.\u001B[39minterp(r, ind_data[\u001B[38;5;124m\"\u001B[39m\u001B[38;5;124ms_m\u001B[39m\u001B[38;5;124m\"\u001B[39m], ind_data[\u001B[38;5;124m\"\u001B[39m\u001B[38;5;124mCl\u001B[39m\u001B[38;5;124m\"\u001B[39m])\n",
      "File \u001B[1;32mc:\\Users\\jimwi\\OneDrive\\TU MATERIAAL\\Master materiaal\\Semester3\\46200 LAC\\.conda\\Lib\\site-packages\\lacbox\\io.py:45\u001B[0m, in \u001B[0;36mload_ae\u001B[1;34m(path, dset, unpack)\u001B[0m\n\u001B[0;32m     43\u001B[0m \u001B[38;5;28;01mif\u001B[39;00m dset \u001B[38;5;241m!=\u001B[39m \u001B[38;5;241m1\u001B[39m:\n\u001B[0;32m     44\u001B[0m     \u001B[38;5;28;01mraise\u001B[39;00m \u001B[38;5;167;01mValueError\u001B[39;00m(\u001B[38;5;124m'\u001B[39m\u001B[38;5;124mFunction only supports loading first dataset!\u001B[39m\u001B[38;5;124m'\u001B[39m)\n\u001B[1;32m---> 45\u001B[0m ae \u001B[38;5;241m=\u001B[39m \u001B[43mnp\u001B[49m\u001B[38;5;241;43m.\u001B[39;49m\u001B[43mloadtxt\u001B[49m\u001B[43m(\u001B[49m\u001B[43mpath\u001B[49m\u001B[43m,\u001B[49m\u001B[43m \u001B[49m\u001B[43mskiprows\u001B[49m\u001B[38;5;241;43m=\u001B[39;49m\u001B[38;5;241;43m2\u001B[39;49m\u001B[43m,\u001B[49m\u001B[43m \u001B[49m\u001B[43mcomments\u001B[49m\u001B[38;5;241;43m=\u001B[39;49m\u001B[38;5;124;43m'\u001B[39;49m\u001B[38;5;124;43m;\u001B[39;49m\u001B[38;5;124;43m'\u001B[39;49m\u001B[43m,\u001B[49m\u001B[43m \u001B[49m\u001B[43munpack\u001B[49m\u001B[38;5;241;43m=\u001B[39;49m\u001B[43munpack\u001B[49m\u001B[43m)\u001B[49m\n\u001B[0;32m     46\u001B[0m \u001B[38;5;28;01mreturn\u001B[39;00m ae\n",
      "File \u001B[1;32mc:\\Users\\jimwi\\OneDrive\\TU MATERIAAL\\Master materiaal\\Semester3\\46200 LAC\\.conda\\Lib\\site-packages\\numpy\\lib\\npyio.py:1373\u001B[0m, in \u001B[0;36mloadtxt\u001B[1;34m(fname, dtype, comments, delimiter, converters, skiprows, usecols, unpack, ndmin, encoding, max_rows, quotechar, like)\u001B[0m\n\u001B[0;32m   1370\u001B[0m \u001B[38;5;28;01mif\u001B[39;00m \u001B[38;5;28misinstance\u001B[39m(delimiter, \u001B[38;5;28mbytes\u001B[39m):\n\u001B[0;32m   1371\u001B[0m     delimiter \u001B[38;5;241m=\u001B[39m delimiter\u001B[38;5;241m.\u001B[39mdecode(\u001B[38;5;124m'\u001B[39m\u001B[38;5;124mlatin1\u001B[39m\u001B[38;5;124m'\u001B[39m)\n\u001B[1;32m-> 1373\u001B[0m arr \u001B[38;5;241m=\u001B[39m \u001B[43m_read\u001B[49m\u001B[43m(\u001B[49m\u001B[43mfname\u001B[49m\u001B[43m,\u001B[49m\u001B[43m \u001B[49m\u001B[43mdtype\u001B[49m\u001B[38;5;241;43m=\u001B[39;49m\u001B[43mdtype\u001B[49m\u001B[43m,\u001B[49m\u001B[43m \u001B[49m\u001B[43mcomment\u001B[49m\u001B[38;5;241;43m=\u001B[39;49m\u001B[43mcomment\u001B[49m\u001B[43m,\u001B[49m\u001B[43m \u001B[49m\u001B[43mdelimiter\u001B[49m\u001B[38;5;241;43m=\u001B[39;49m\u001B[43mdelimiter\u001B[49m\u001B[43m,\u001B[49m\n\u001B[0;32m   1374\u001B[0m \u001B[43m            \u001B[49m\u001B[43mconverters\u001B[49m\u001B[38;5;241;43m=\u001B[39;49m\u001B[43mconverters\u001B[49m\u001B[43m,\u001B[49m\u001B[43m \u001B[49m\u001B[43mskiplines\u001B[49m\u001B[38;5;241;43m=\u001B[39;49m\u001B[43mskiprows\u001B[49m\u001B[43m,\u001B[49m\u001B[43m \u001B[49m\u001B[43musecols\u001B[49m\u001B[38;5;241;43m=\u001B[39;49m\u001B[43musecols\u001B[49m\u001B[43m,\u001B[49m\n\u001B[0;32m   1375\u001B[0m \u001B[43m            \u001B[49m\u001B[43munpack\u001B[49m\u001B[38;5;241;43m=\u001B[39;49m\u001B[43munpack\u001B[49m\u001B[43m,\u001B[49m\u001B[43m \u001B[49m\u001B[43mndmin\u001B[49m\u001B[38;5;241;43m=\u001B[39;49m\u001B[43mndmin\u001B[49m\u001B[43m,\u001B[49m\u001B[43m \u001B[49m\u001B[43mencoding\u001B[49m\u001B[38;5;241;43m=\u001B[39;49m\u001B[43mencoding\u001B[49m\u001B[43m,\u001B[49m\n\u001B[0;32m   1376\u001B[0m \u001B[43m            \u001B[49m\u001B[43mmax_rows\u001B[49m\u001B[38;5;241;43m=\u001B[39;49m\u001B[43mmax_rows\u001B[49m\u001B[43m,\u001B[49m\u001B[43m \u001B[49m\u001B[43mquote\u001B[49m\u001B[38;5;241;43m=\u001B[39;49m\u001B[43mquotechar\u001B[49m\u001B[43m)\u001B[49m\n\u001B[0;32m   1378\u001B[0m \u001B[38;5;28;01mreturn\u001B[39;00m arr\n",
      "File \u001B[1;32mc:\\Users\\jimwi\\OneDrive\\TU MATERIAAL\\Master materiaal\\Semester3\\46200 LAC\\.conda\\Lib\\site-packages\\numpy\\lib\\npyio.py:992\u001B[0m, in \u001B[0;36m_read\u001B[1;34m(fname, delimiter, comment, quote, imaginary_unit, usecols, skiplines, max_rows, converters, ndmin, unpack, dtype, encoding)\u001B[0m\n\u001B[0;32m    990\u001B[0m     fname \u001B[38;5;241m=\u001B[39m os\u001B[38;5;241m.\u001B[39mfspath(fname)\n\u001B[0;32m    991\u001B[0m \u001B[38;5;28;01mif\u001B[39;00m \u001B[38;5;28misinstance\u001B[39m(fname, \u001B[38;5;28mstr\u001B[39m):\n\u001B[1;32m--> 992\u001B[0m     fh \u001B[38;5;241m=\u001B[39m \u001B[43mnp\u001B[49m\u001B[38;5;241;43m.\u001B[39;49m\u001B[43mlib\u001B[49m\u001B[38;5;241;43m.\u001B[39;49m\u001B[43m_datasource\u001B[49m\u001B[38;5;241;43m.\u001B[39;49m\u001B[43mopen\u001B[49m\u001B[43m(\u001B[49m\u001B[43mfname\u001B[49m\u001B[43m,\u001B[49m\u001B[43m \u001B[49m\u001B[38;5;124;43m'\u001B[39;49m\u001B[38;5;124;43mrt\u001B[39;49m\u001B[38;5;124;43m'\u001B[39;49m\u001B[43m,\u001B[49m\u001B[43m \u001B[49m\u001B[43mencoding\u001B[49m\u001B[38;5;241;43m=\u001B[39;49m\u001B[43mencoding\u001B[49m\u001B[43m)\u001B[49m\n\u001B[0;32m    993\u001B[0m     \u001B[38;5;28;01mif\u001B[39;00m encoding \u001B[38;5;129;01mis\u001B[39;00m \u001B[38;5;28;01mNone\u001B[39;00m:\n\u001B[0;32m    994\u001B[0m         encoding \u001B[38;5;241m=\u001B[39m \u001B[38;5;28mgetattr\u001B[39m(fh, \u001B[38;5;124m'\u001B[39m\u001B[38;5;124mencoding\u001B[39m\u001B[38;5;124m'\u001B[39m, \u001B[38;5;124m'\u001B[39m\u001B[38;5;124mlatin1\u001B[39m\u001B[38;5;124m'\u001B[39m)\n",
      "File \u001B[1;32mc:\\Users\\jimwi\\OneDrive\\TU MATERIAAL\\Master materiaal\\Semester3\\46200 LAC\\.conda\\Lib\\site-packages\\numpy\\lib\\_datasource.py:193\u001B[0m, in \u001B[0;36mopen\u001B[1;34m(path, mode, destpath, encoding, newline)\u001B[0m\n\u001B[0;32m    156\u001B[0m \u001B[38;5;250m\u001B[39m\u001B[38;5;124;03m\"\"\"\u001B[39;00m\n\u001B[0;32m    157\u001B[0m \u001B[38;5;124;03mOpen `path` with `mode` and return the file object.\u001B[39;00m\n\u001B[0;32m    158\u001B[0m \n\u001B[1;32m   (...)\u001B[0m\n\u001B[0;32m    189\u001B[0m \n\u001B[0;32m    190\u001B[0m \u001B[38;5;124;03m\"\"\"\u001B[39;00m\n\u001B[0;32m    192\u001B[0m ds \u001B[38;5;241m=\u001B[39m DataSource(destpath)\n\u001B[1;32m--> 193\u001B[0m \u001B[38;5;28;01mreturn\u001B[39;00m \u001B[43mds\u001B[49m\u001B[38;5;241;43m.\u001B[39;49m\u001B[43mopen\u001B[49m\u001B[43m(\u001B[49m\u001B[43mpath\u001B[49m\u001B[43m,\u001B[49m\u001B[43m \u001B[49m\u001B[43mmode\u001B[49m\u001B[43m,\u001B[49m\u001B[43m \u001B[49m\u001B[43mencoding\u001B[49m\u001B[38;5;241;43m=\u001B[39;49m\u001B[43mencoding\u001B[49m\u001B[43m,\u001B[49m\u001B[43m \u001B[49m\u001B[43mnewline\u001B[49m\u001B[38;5;241;43m=\u001B[39;49m\u001B[43mnewline\u001B[49m\u001B[43m)\u001B[49m\n",
      "File \u001B[1;32mc:\\Users\\jimwi\\OneDrive\\TU MATERIAAL\\Master materiaal\\Semester3\\46200 LAC\\.conda\\Lib\\site-packages\\numpy\\lib\\_datasource.py:533\u001B[0m, in \u001B[0;36mDataSource.open\u001B[1;34m(self, path, mode, encoding, newline)\u001B[0m\n\u001B[0;32m    530\u001B[0m     \u001B[38;5;28;01mreturn\u001B[39;00m _file_openers[ext](found, mode\u001B[38;5;241m=\u001B[39mmode,\n\u001B[0;32m    531\u001B[0m                               encoding\u001B[38;5;241m=\u001B[39mencoding, newline\u001B[38;5;241m=\u001B[39mnewline)\n\u001B[0;32m    532\u001B[0m \u001B[38;5;28;01melse\u001B[39;00m:\n\u001B[1;32m--> 533\u001B[0m     \u001B[38;5;28;01mraise\u001B[39;00m \u001B[38;5;167;01mFileNotFoundError\u001B[39;00m(\u001B[38;5;124mf\u001B[39m\u001B[38;5;124m\"\u001B[39m\u001B[38;5;132;01m{\u001B[39;00mpath\u001B[38;5;132;01m}\u001B[39;00m\u001B[38;5;124m not found.\u001B[39m\u001B[38;5;124m\"\u001B[39m)\n",
      "\u001B[1;31mFileNotFoundError\u001B[0m: C:\\Users\\jimwi\\PycharmProjects\\LAC\\LAC\\data\\DTU_10MW_RWT_ae.dat not found."
     ]
    }
   ],
   "execution_count": 24
  },
  {
   "metadata": {},
   "cell_type": "code",
   "source": [
    "scale_ratio_blade = 1.0388359746215876\n",
    "\n",
    "ae_path = test_data_path + '/dtu_10_mw/data/DTU_10MW_RWT_ae.dat'\n",
    "\n",
    "ae = load_ae(ae_path)\n",
    "\n",
    "# Read new design data\n",
    "r, c_10mw, tc_10mw, pcset = load_ae(ae_path, unpack=True)\n",
    "\n",
    "r_blade = r * scale_ratio_blade\n",
    "\n",
    "cl_des, cd_des, aoa_des, tc_vals, cl_vals, cd_vals, aoa_vals = get_design_functions(2)\n",
    "\n",
    "cl_design_r = np.loadtxt('Cl_single_point_design')\n",
    "\n",
    "tc = np.arange(0,100)\n",
    "cl_design = cl_des(tc)\n",
    "\n",
    "print(Cl_interpolated)\n",
    "print(tc_list)\n",
    "\n",
    "plt.plot(tc,cl_design,label='Design function')\n",
    "plt.plot(tc_list,Cl_interpolated,label='Hawc2s')\n",
    "plt.ylabel(\"$C_l$ [-]\")\n",
    "plt.xlabel('t/c [-]')\n",
    "plt.legend()\n",
    "plt.tick_params(axis='both',bottom=True, top=True, left=True, right=True, direction='in', which='major')\n",
    "plt.grid(linestyle='--', linewidth=1, alpha=0.7)\n",
    "plt.figure(figsize=(5, 3))\n",
    "plt.savefig(Path.cwd().parent / 'Plots/Cl_tc_hawc2s.pdf')\n",
    "plt.show()\n",
    "\n",
    "plt.plot(ind_data[\"s_m\"], ind_data[\"Cl\"],label='Hawc2s')\n",
    "plt.plot(r_blade[:-1],cl_design_r, label='Design function')\n",
    "plt.ylabel(\"$C_l$ [-]\")\n",
    "plt.xlabel('r [m]')\n",
    "plt.legend()\n",
    "plt.tick_params(axis='both',bottom=True, top=True, left=True, right=True, direction='in', which='major')\n",
    "plt.grid(linestyle='--', linewidth=1, alpha=0.7)\n",
    "plt.figure(figsize=(5, 3))\n",
    "plt.savefig(Path.cwd().parent / 'Plots/Cl_r_hawc2s.pdf')\n",
    "plt.show()\n",
    "\n",
    "# plt.plot(ind_data[\"s_m\"], ind_data[\"aoa_rad\"]*180/(2*np.pi),label='Hawc2s')\n",
    "# plt.plot(r_blade[:-1],cl_design_r, label='Design function')\n",
    "# plt.ylabel(\"$\\\\alpha$ [-]\")\n",
    "# plt.xlabel('r [m]')\n",
    "# plt.legend()\n",
    "# plt.tick_params(axis='both',bottom=True, top=True, left=True, right=True, direction='in', which='major')\n",
    "# plt.grid(linestyle='--', linewidth=1, alpha=0.7)\n",
    "# plt.figure(figsize=(5, 3))\n",
    "# # plt.savefig(Path.cwd().parent / 'Plots/Cl_r_hawc2s.pdf')\n",
    "# plt.show()\n"
   ],
   "outputs": [],
   "execution_count": null
  },
  {
   "metadata": {},
   "cell_type": "code",
   "source": [
    "# plt.plot(ind_data[\"s_m\"], ind_data[\"Cl\"],label='Hawc2s')\n",
    "# plt.plot(r,cl_design_r, label='Design function')\n",
    "# plt.ylabel(\"$C_l$ [-]\")\n",
    "# plt.xlabel('r [m]')\n",
    "# plt.legend()\n",
    "# plt.tick_params(axis='both',bottom=True, top=True, left=True, right=True, direction='in', which='major')\n",
    "# plt.grid(linestyle='--', linewidth=1, alpha=0.7)\n",
    "# plt.figure(figsize=(5, 3))\n",
    "# plt.savefig(Path.cwd().parent / 'Plots/Cl_r_hawc2s.pdf')\n",
    "# plt.show()"
   ],
   "outputs": [],
   "execution_count": null
  },
  {
   "metadata": {},
   "cell_type": "code",
   "source": [
    "#Plots of the HAWC2S lift coefficient, lift-drag ratio, AoA, axial induction (a), local CT and local CP versus radius at design TSR.\n",
    "\n",
    "ind_data_path = Path.cwd().parent.parent / 'res_hawc2s' /'BB_redesign_hawc2s_multitsr_compute_rigid_opt_u8000.ind'\n",
    "\n",
    "ind_data_hawc2s = load_ind(ind_data_path)\n",
    "# Print the names in the dict\n",
    "ind_data_hawc2s.keys()\n",
    "\n"
   ],
   "outputs": [],
   "execution_count": null
  },
  {
   "metadata": {},
   "cell_type": "markdown",
   "source": ""
  },
  {
   "metadata": {},
   "cell_type": "code",
   "source": [
    "plt.plot(ind_data['s_m'],ind_data['a'])\n",
    "plt.xlabel('r [m]')\n",
    "plt.ylabel('a [-]')\n",
    "plt.tick_params(axis='both',bottom=True, top=True, left=True, right=True, direction='in', which='major')\n",
    "plt.grid(linestyle='--', linewidth=1, alpha=0.7)\n",
    "plt.figure(figsize=(5, 3))\n",
    "plt.savefig(Path.cwd().parent / 'Plots/a_r_hawc2s.pdf')\n",
    "plt.show()"
   ],
   "outputs": [],
   "execution_count": null
  },
  {
   "metadata": {},
   "cell_type": "code",
   "source": [
    "plt.plot(ind_data['s_m'],ind_data['Cl'])\n",
    "plt.xlabel('r [m]')\n",
    "plt.ylabel('$C_l$ [-]')\n",
    "plt.tick_params(axis='both',bottom=True, top=True, left=True, right=True, direction='in', which='major')\n",
    "plt.grid(linestyle='--', linewidth=1, alpha=0.7)\n",
    "plt.figure(figsize=(5, 3))\n",
    "plt.savefig(Path.cwd().parent / 'Plots/Cl_r_hawc2s.pdf')\n",
    "plt.show()"
   ],
   "outputs": [],
   "execution_count": null
  },
  {
   "metadata": {},
   "cell_type": "code",
   "source": [
    "plt.plot(ind_data['s_m'],ind_data['Cl']/ind_data['Cd'])\n",
    "plt.xlabel('r [m]')\n",
    "plt.ylabel('$C_l/C_d$ [-]')\n",
    "plt.tick_params(axis='both',bottom=True, top=True, left=True, right=True, direction='in', which='major')\n",
    "plt.grid(linestyle='--', linewidth=1, alpha=0.7)\n",
    "plt.figure(figsize=(5, 3))\n",
    "plt.savefig(Path.cwd().parent / 'Plots/ClCd_r_hawc2s.pdf')\n",
    "plt.show()"
   ],
   "outputs": [],
   "execution_count": null
  },
  {
   "metadata": {},
   "cell_type": "code",
   "source": [
    "plt.plot(ind_data['s_m'],ind_data['aoa_rad']/(2*np.pi)*180)\n",
    "plt.xlabel('r [m]')\n",
    "plt.ylabel('$\\\\alpha$ [deg]')\n",
    "plt.tick_params(axis='both',bottom=True, top=True, left=True, right=True, direction='in', which='major')\n",
    "plt.grid(linestyle='--', linewidth=1, alpha=0.7)\n",
    "plt.figure(figsize=(5, 3))\n",
    "plt.savefig(Path.cwd().parent / 'Plots/aoa_r_hawc2s.pdf')\n",
    "plt.show()"
   ],
   "outputs": [],
   "execution_count": null
  },
  {
   "metadata": {},
   "cell_type": "code",
   "source": [
    "plt.plot(ind_data['s_m'],ind_data['CT'])\n",
    "plt.xlabel('r [m]')\n",
    "plt.ylabel('$C_T$ [-]')\n",
    "plt.tick_params(axis='both',bottom=True, top=True, left=True, right=True, direction='in', which='major')\n",
    "plt.grid(linestyle='--', linewidth=1, alpha=0.7)\n",
    "plt.figure(figsize=(5, 3))\n",
    "plt.savefig(Path.cwd().parent / 'Plots/CT_r_hawc2s.pdf')\n",
    "plt.show()"
   ],
   "outputs": [],
   "execution_count": null
  },
  {
   "metadata": {},
   "cell_type": "code",
   "source": [
    "plt.plot(ind_data['s_m'], ind_data['CP'])\n",
    "plt.xlabel('r [m]')\n",
    "plt.ylabel('$C_P$ [-]')\n",
    "plt.tick_params(axis='both', bottom=True, top=True, left=True, right=True, direction='in', which='major')\n",
    "plt.grid(linestyle='--', linewidth=1, alpha=0.7)\n",
    "plt.figure(figsize=(5, 3))\n",
    "plt.savefig(Path.cwd().parent / 'Plots/CP_r_hawc2s.pdf')\n",
    "plt.show()"
   ],
   "outputs": [],
   "execution_count": null
  },
  {
   "metadata": {},
   "cell_type": "code",
   "source": "",
   "outputs": [],
   "execution_count": null
  }
 ],
 "metadata": {
  "kernelspec": {
   "display_name": "Python 3",
   "language": "python",
   "name": "python3"
  },
  "language_info": {
   "codemirror_mode": {
    "name": "ipython",
    "version": 3
   },
   "file_extension": ".py",
   "mimetype": "text/x-python",
   "name": "python",
   "nbconvert_exporter": "python",
   "pygments_lexer": "ipython3",
   "version": "3.11.9"
  },
  "orig_nbformat": 4
 },
 "nbformat": 4,
 "nbformat_minor": 2
}
