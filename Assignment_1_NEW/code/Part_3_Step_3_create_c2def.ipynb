{
 "cells": [
  {
   "cell_type": "markdown",
   "metadata": {},
   "source": [
    "## Create \"c2_def_updated.txt\" based on original DTU 10MW\n",
    "\n",
    "## After that:\n",
    "1) Copy and modify OPT files from DTU 10 MW\n",
    "2) Run \"make_htc_files.py\"\n",
    "3) MANUALLY Update the \"c2_def\" block (maybe only once in the master???)\n",
    "4) Run HAWC2S"
   ]
  },
  {
   "cell_type": "code",
   "execution_count": 1,
   "metadata": {},
   "outputs": [],
   "source": [
    "from lacbox.io import load_c2def, save_c2def\n",
    "from lacbox.test import test_data_path\n",
    "import matplotlib.pyplot as plt\n",
    "import numpy as np\n",
    "\n",
    "\n",
    "scale_ratio_blade = 1.02624\n",
    "\n",
    "\n",
    "# THESE ARE CONSTANT!!!!!\n",
    "htc_path = '../dtu_10mw/_master/dtu_10mw.htc'\n",
    "c2_def = load_c2def(htc_path)\n",
    "\n",
    "\"\"\"Array with updated radial positions, ie BB_RWT_ae\"\"\"\n",
    "r_39 = np.loadtxt('single_point_design_radius.txt')[:-1]\n",
    "\n",
    "\"\"\"Array with twists from single point design\"\"\"\n",
    "twist_39 = np.loadtxt('single_point_design_twist.txt')\n",
    "\n",
    "\"\"\"Target r-values (27 data points) from master.htc file with scaled factor\"\"\" #THESE ARE CONSTANT!!!!!\n",
    "r_27 = scale_ratio_blade * np.array([4.44089E-16, 3.00000E+00, 6.00000E+00, 7.00004E+00, 8.70051E+00,\n",
    "                 1.04020E+01, 1.22046E+01, 1.32065E+01, 1.50100E+01, 1.82151E+01,\n",
    "                 2.14178E+01, 2.46189E+01, 2.78193E+01, 3.10194E+01, 3.42197E+01,\n",
    "                 4.02204E+01, 4.66217E+01, 5.30232E+01, 5.94245E+01, 6.58255E+01,\n",
    "                 7.22261E+01, 7.90266E+01, 8.05267E+01, 8.20271E+01, 8.35274E+01,\n",
    "                 8.50277E+01, 8.63655E+01])"
   ]
  },
  {
   "cell_type": "code",
   "execution_count": 2,
   "metadata": {},
   "outputs": [],
   "source": [
    "# Interpolating the y-values from 39 points to match 27 points\n",
    "twist_27_interp = np.interp(r_27, r_39, twist_39)\n",
    "\n",
    "\"\"\"Actual twist is negative inside hawc2 so we put the minus sign\"\"\"\n",
    "twist_27 = -twist_27_interp\n",
    "\n",
    "\"\"\"New blade length, still kinda wtf because the aero_ae.dat is different\"\"\"\n",
    "c2_def_new = c2_def.copy()\n",
    "c2_def_new[:, 2] = r_27\n",
    "c2_def_new[:, -1] = twist_27\n",
    "\n",
    "\n",
    "save_path = 'updated_c2_def.txt'\n",
    "save_c2def(save_path, c2_def_new)"
   ]
  }
 ],
 "metadata": {
  "kernelspec": {
   "display_name": "base",
   "language": "python",
   "name": "python3"
  },
  "language_info": {
   "codemirror_mode": {
    "name": "ipython",
    "version": 3
   },
   "file_extension": ".py",
   "mimetype": "text/x-python",
   "name": "python",
   "nbconvert_exporter": "python",
   "pygments_lexer": "ipython3",
   "version": "3.11.7"
  }
 },
 "nbformat": 4,
 "nbformat_minor": 2
}
