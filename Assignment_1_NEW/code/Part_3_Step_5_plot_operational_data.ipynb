{
 "cells": [
  {
   "cell_type": "markdown",
   "metadata": {},
   "source": [
    "# Script to do plots for Part 3"
   ]
  },
  {
   "cell_type": "code",
   "execution_count": 9,
   "metadata": {},
   "outputs": [],
   "source": [
    "import numpy as np\n",
    "import matplotlib.pyplot as plt\n",
    "import matplotlib\n",
    "import scienceplots\n",
    "matplotlib.rcParams.update(matplotlib.rcParamsDefault) # TO RESET  PLOTS\n",
    "plt.style.use(['science'])\n",
    "# Set global font properties\n",
    "plt.rcParams['legend.frameon'] = True  # Enable the legend frame\n",
    "plt.rcParams['legend.fancybox'] = False  # No fancybox, just a regular box\n",
    "plt.rcParams['legend.edgecolor'] = 'black'  # Black edge color\n",
    "plt.rcParams['legend.framealpha'] = 1  # No transparency\n",
    "plt.rcParams['font.size'] = 12\n",
    "plt.rcParams['font.weight'] = 'normal'"
   ]
  },
  {
   "cell_type": "markdown",
   "metadata": {},
   "source": [
    "# Plot power and thrust coefficients against TSR"
   ]
  },
  {
   "cell_type": "code",
   "execution_count": 10,
   "metadata": {},
   "outputs": [],
   "source": [
    " #        V [m/s]  1           P [kW]  2           T [kN]  3           Cp [-]  4           Ct [-]  5     Pitch Q [Nm]  6     Flap M [kNm]  7     Edge M [kNm]  8      Pitch [deg]  9      Speed [rpm] 10        Tip x [m] 11        Tip y [m] 12        Tip z [m] 13   J_rot [kg*m^2] 14    J_DT [kg*m^2] 15      Tors. [rad] 28    Torque [kNm]  29\n",
    "# Given rotor radius R (provide the value in meters)\n",
    "R_BB_neo = 91.5  # [m]\n",
    "\n",
    "# Load the data using np.loadtxt\n",
    "# Adjust the delimiter and number of columns if needed\n",
    "data = np.loadtxt('../my_design/res_hawc2s/BB_hawc2s_multitsr.pwr', skiprows=1)\n",
    "\n",
    "# Extract relevant columns\n",
    "wind_speed = data[:, 0]  # V [m/s]\n",
    "rpm = data[:, 9]         # Speed [rpm]\n",
    "Cp = data[:, 3]          # Cp [-]\n",
    "Ct = data[:, 4]          # Ct [-]\n",
    "pitch = data[:,8]        # pitch [deg]\n",
    "\n",
    "# Calculate omega (rad/s) and TSR\n",
    "omega = np.pi * rpm / 30\n",
    "TSR = (omega * R_BB_neo) / wind_speed\n",
    "\n",
    "# Find the max Cp and its corresponding TSR\n",
    "max_cp_index = np.argmax(Cp)\n",
    "max_cp = Cp[max_cp_index]\n",
    "max_tsr = TSR[max_cp_index]\n",
    "\n",
    "\n",
    "\n",
    "import matplotlib.pyplot as plt\n",
    "\n",
    "# Plot Cp vs TSR\n",
    "plt.figure(figsize=(5, 3))\n",
    "plt.plot(TSR, Cp)\n",
    "\n",
    "# Plot the max point with an 'x'\n",
    "plt.scatter(max_tsr, max_cp, color='red', marker='x', s=100, label=r'Max $C_P$')\n",
    "\n",
    "# Add vertical and horizontal dashed lines\n",
    "plt.axvline(x=max_tsr, color='blue', linestyle='--', linewidth=1, label=fr'$\\lambda,opt $ = {max_tsr:.2f}')\n",
    "plt.axhline(y=max_cp, color='green', linestyle='--', linewidth=1, label=fr'$C_P,max$ = {max_cp:.2f}')\n",
    "\n",
    "\n",
    "# Labels, legend, and grid\n",
    "plt.xlabel(r'$\\lambda$ [-]')\n",
    "plt.ylabel(r'$C_P$ [-]')\n",
    "plt.legend(loc='lower right', fontsize = 10)\n",
    "plt.tick_params(axis='both', bottom=True, top=True, left=True, right=True, direction='in', which='major')\n",
    "plt.grid(linestyle='--', linewidth=0.5, alpha=0.7)\n",
    "\n",
    "# Save the figure\n",
    "# plt.savefig('plots/CP_TSR_BB_neo' + '.pdf', dpi=300, bbox_inches='tight')\n",
    "\n",
    "\n",
    "\n",
    "\n",
    "# Plot Ct vs TSR\n",
    "plt.figure(figsize=(5,3))\n",
    "plt.plot(TSR, Ct)\n",
    "plt.xlabel(r'$\\lambda$ [-]')\n",
    "plt.ylabel(r'$C_T$ [-]')\n",
    "plt.tick_params(axis='both',bottom=True, top=True, left=True, right=True, direction='in', which='major')\n",
    "plt.grid(linestyle='--', linewidth=0.5, alpha=0.7)\n",
    "# plt.savefig('plots/Ct_TSR_BB_neo' + '.pdf', dpi=300, bbox_inches='tight')"
   ]
  },
  {
   "cell_type": "markdown",
   "metadata": {},
   "source": [
    "# Rotor speed and pitch angle vs wind speed"
   ]
  },
  {
   "cell_type": "code",
   "execution_count": null,
   "metadata": {},
   "outputs": [],
   "source": [
    "# Import the data from the appropriate file\n",
    "data_BB_neo = np.loadtxt('../my_design/data/BB_compute_flex_opt_neo.opt', skiprows=1)\n",
    "data_dtu_10mw = np.loadtxt('../dtu_10mw/data/dtu_10mw_flex_minrotspd.opt', skiprows=1)\n",
    "\n",
    "# Extract relevant columns for BB neo\n",
    "wind_speed_BB_neo = data_BB_neo[:, 0]     # V [m/s]\n",
    "pitch_BB_neo = data_BB_neo[:, 1]          # pitch [deg]\n",
    "rot_speed_BB_neo = data_BB_neo[:, 2]      # rotor speed [rpm]\n",
    "power_BB_neo = data_BB_neo[:, 3]          # aero power [kW]\n",
    "thrust_BB_neo = data_BB_neo[:,4]          # thrust [kN]\n",
    "\n",
    "# Extract relevant columns for DTU 10MW\n",
    "R_dtu_10mw = 89.16                            # [m]\n",
    "wind_speed_dtu_10mw = data_dtu_10mw[:, 0]     # V [m/s]\n",
    "pitch_dtu_10mw = data_dtu_10mw[:, 1]          # pitch [deg]\n",
    "rot_speed_dtu_10mw = data_dtu_10mw[:, 2]      # rotor speed [rpm]\n",
    "power_dtu_10mw = data_dtu_10mw[:, 3]          # aero power [kW]\n",
    "thrust_dtu_10mw = data_dtu_10mw[:,4]          # thrust [kN]\n",
    "\n",
    "# Calculate the coefficients\n",
    "rho = 1.225                                 # typical value for density [kg/m^3]\n",
    "\n",
    "# BB neo\n",
    "A_BB_neo = np.pi*R_BB_neo**2                              # rotor surface are\n",
    "Cp_BB_neo = power_BB_neo*1000/(0.5*rho*wind_speed_BB_neo**3*A_BB_neo)    # Power coefficient [-]  \n",
    "Ct_BB_neo = thrust_BB_neo*1000/(0.5*rho*wind_speed_BB_neo**2*A_BB_neo)   # Thrust coefficient [-]\n",
    "\n",
    "# DTU 10MW\n",
    "A_dtu_10mw = np.pi*R_dtu_10mw**2                              # rotor surface are\n",
    "Cp_dtu_10mw = power_dtu_10mw*1000/(0.5*rho*wind_speed_dtu_10mw**3*A_dtu_10mw)    # Power coefficient [-]  \n",
    "Ct_dtu_10mw = thrust_dtu_10mw*1000/(0.5*rho*wind_speed_dtu_10mw**2*A_dtu_10mw)   # Thrust coefficient [-]\n",
    "\n",
    "# Plot RPM vs wind speed\n",
    "plt.figure(figsize=(5, 3))\n",
    "plt.plot(wind_speed_dtu_10mw, rot_speed_dtu_10mw, color='red', label='DTU 10MW')\n",
    "plt.plot(wind_speed_BB_neo, rot_speed_BB_neo, color='green', label='BB neo')\n",
    "plt.xlabel('Wind speed [m/s]')\n",
    "plt.ylabel('Rotor speed [RPM]')\n",
    "plt.legend()\n",
    "plt.tick_params(axis='both',bottom=True, top=True, left=True, right=True, direction='in', which='major')\n",
    "plt.grid(linestyle='--', linewidth=0.5, alpha=0.7)\n",
    "# plt.savefig('plots/rpm_wsp_BBneo_dtu10mw' + '.pdf', dpi=300, bbox_inches='tight')\n",
    "\n",
    "# Plot pitch vs wind speed\n",
    "plt.figure(figsize=(5,3))\n",
    "plt.plot(wind_speed_dtu_10mw, pitch_dtu_10mw, color='red', label='DTU 10MW')\n",
    "plt.plot(wind_speed_BB_neo, pitch_BB_neo, color='green', label='BB neo')\n",
    "plt.xlabel('Wind speed [m/s]')\n",
    "plt.ylabel('Pitch angle [deg]')\n",
    "plt.tick_params(axis='both',bottom=True, top=True, left=True, right=True, direction='in', which='major')\n",
    "plt.grid(linestyle='--', linewidth=0.5, alpha=0.7)\n",
    "# plt.savefig('plots/pitch_wsp_BBneo_dtu10mw' + '.pdf', dpi=300, bbox_inches='tight')"
   ]
  },
  {
   "cell_type": "markdown",
   "metadata": {},
   "source": [
    "# Aero power and Cp"
   ]
  },
  {
   "cell_type": "code",
   "execution_count": null,
   "metadata": {},
   "outputs": [],
   "source": [
    "# Plot Aero power vs wind speed\n",
    "plt.figure(figsize=(5, 3))\n",
    "plt.plot(wind_speed_dtu_10mw, power_dtu_10mw, color='red', label='DTU 10MW')\n",
    "plt.plot(wind_speed_BB_neo, power_BB_neo, color='green', label='BB neo')\n",
    "plt.xlabel('Wind speed [m/s]')\n",
    "plt.ylabel('Aero Power [kW]')\n",
    "plt.tick_params(axis='both',bottom=True, top=True, left=True, right=True, direction='in', which='major')\n",
    "plt.grid(linestyle='--', linewidth=0.5, alpha=0.7)\n",
    "plt.legend()\n",
    "# plt.savefig('plots/power_wsp_BBneo_dtu10mw' + '.pdf', dpi=300, bbox_inches='tight')\n",
    "\n",
    "# Plot CP vs wind speed\n",
    "plt.figure(figsize=(5, 3))\n",
    "plt.plot(wind_speed_dtu_10mw, Cp_dtu_10mw, color='red', label='DTU 10MW')\n",
    "plt.plot(wind_speed_BB_neo, Cp_BB_neo, color='green', label='BB neo')\n",
    "plt.xlabel('Wind speed [m/s]')\n",
    "plt.ylabel(r'$C_P$ [-]')\n",
    "plt.tick_params(axis='both',bottom=True, top=True, left=True, right=True, direction='in', which='major')\n",
    "plt.grid(linestyle='--', linewidth=0.5, alpha=0.7)\n",
    "# plt.savefig('plots/Cp_wsp_BBneo_dtu10mw' + '.pdf', dpi=300, bbox_inches='tight')"
   ]
  },
  {
   "cell_type": "markdown",
   "metadata": {},
   "source": [
    "# Aero thrust and Ct"
   ]
  },
  {
   "cell_type": "code",
   "execution_count": null,
   "metadata": {},
   "outputs": [],
   "source": [
    "# Plot thrust vs wind speed\n",
    "plt.figure(figsize=(5, 3))\n",
    "plt.plot(wind_speed_dtu_10mw, thrust_dtu_10mw, color='red', label='DTU 10MW')\n",
    "plt.plot(wind_speed_BB_neo, thrust_BB_neo, color='green', label='BB neo')\n",
    "plt.xlabel('Wind speed [m/s]')\n",
    "plt.ylabel('Thrust [kN]')\n",
    "plt.tick_params(axis='both',bottom=True, top=True, left=True, right=True, direction='in', which='major')\n",
    "plt.grid(linestyle='--', linewidth=0.5, alpha=0.7)\n",
    "plt.legend()\n",
    "# plt.savefig('plots/thrust_wsp_BBneo_dtu10mw' + '.pdf', dpi=300, bbox_inches='tight')\n",
    "\n",
    "# Plot Ct vs wind speed\n",
    "plt.figure(figsize=(5, 3))\n",
    "plt.plot(wind_speed_dtu_10mw, Ct_dtu_10mw, color='red', label='DTU 10MW')\n",
    "plt.plot(wind_speed_BB_neo, Cp_BB_neo, color='green', label='BB neo')\n",
    "plt.xlabel('Wind speed [m/s]')\n",
    "plt.ylabel(r'$C_T$ [-]')\n",
    "plt.tick_params(axis='both',bottom=True, top=True, left=True, right=True, direction='in', which='major')\n",
    "plt.grid(linestyle='--', linewidth=0.5, alpha=0.7)\n",
    "# plt.savefig('plots/CT_wsp_BBneo_dtu10mw' + '.pdf', dpi=300, bbox_inches='tight')"
   ]
  },
  {
   "cell_type": "markdown",
   "metadata": {},
   "source": [
    "# Torque : PWR file looks bad"
   ]
  },
  {
   "cell_type": "code",
   "execution_count": null,
   "metadata": {},
   "outputs": [],
   "source": [
    "# Import the data from the appropriate file\n",
    "data_BB_neo_pwr = np.loadtxt('../my_design/res_hawc2s/BB_compute_flex_opt_neo.pwr', skiprows=1)\n",
    "data_dtu_10mw_pwr = np.loadtxt('../dtu_10mw/res_hawc2s/dtu_10mw_compute_flex_opt.pwr', skiprows=1)\n",
    "\n",
    "\n",
    "# Extract relevant columns for BB neo\n",
    "wind_speed_BB_neo_pwr = data_BB_neo_pwr[:, 0]     # V [m/s]\n",
    "torque_BB_neo_pwr = data_BB_neo_pwr[:, 16]     # Q [kNm]\n",
    "\n",
    "# Extract relevant columns for DTU 10MW\n",
    "wind_speed_dtu_10mw_pwr = data_dtu_10mw_pwr[:, 0]     # V [m/s]\n",
    "torque_dtu_10mw_pwr = data_dtu_10mw_pwr[:, 16]     # Q [kNm]\n",
    "\n",
    "\n",
    "# Plot RPM vs wind speed\n",
    "plt.figure(figsize=(5, 3))\n",
    "plt.plot(wind_speed_dtu_10mw_pwr, torque_dtu_10mw_pwr, color='red', label='DTU 10MW')\n",
    "plt.plot(wind_speed_BB_neo, torque_BB_neo_pwr, color='green', label='BB neo')\n",
    "plt.xlabel('Wind speed [m/s]')\n",
    "plt.ylabel('Torque [kNm]')\n",
    "plt.legend()\n",
    "plt.tick_params(axis='both',bottom=True, top=True, left=True, right=True, direction='in', which='major')\n",
    "plt.grid(linestyle='--', linewidth=0.5, alpha=0.7)\n",
    "# plt.savefig('plots/torque_wsp_BBneo_dtu10mw' + '.pdf', dpi=300, bbox_inches='tight')"
   ]
  }
 ],
 "metadata": {
  "kernelspec": {
   "display_name": "base",
   "language": "python",
   "name": "python3"
  },
  "language_info": {
   "codemirror_mode": {
    "name": "ipython",
    "version": 3
   },
   "file_extension": ".py",
   "mimetype": "text/x-python",
   "name": "python",
   "nbconvert_exporter": "python",
   "pygments_lexer": "ipython3",
   "version": "3.11.7"
  }
 },
 "nbformat": 4,
 "nbformat_minor": 2
}
