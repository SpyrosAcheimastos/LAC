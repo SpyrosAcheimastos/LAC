{
 "cells": [
  {
   "cell_type": "code",
   "id": "initial_id",
   "metadata": {
    "collapsed": true,
    "ExecuteTime": {
     "end_time": "2024-11-07T09:56:17.292626Z",
     "start_time": "2024-11-07T09:56:15.518123Z"
    }
   },
   "source": [
    "from lacbox.io import load_stats, load_oper\n",
    "import matplotlib.pyplot as plt\n",
    "import numpy as np\n",
    "from pathlib import Path\n",
    "\n",
    "STATS_PATH = Path.cwd().parent / 'our_design/BB_turb_stats.csv'  # path to mean steady stats\n",
    "SUBFOLDER = 'tca' "
   ],
   "outputs": [],
   "execution_count": 1
  },
  {
   "metadata": {
    "ExecuteTime": {
     "end_time": "2024-11-07T09:56:17.517382Z",
     "start_time": "2024-11-07T09:56:17.294649Z"
    }
   },
   "cell_type": "code",
   "source": [
    "# load the HAWC2 data from the stats file. Isolate the simulations with no tilt.\n",
    "df, wsps = load_stats(STATS_PATH, subfolder=SUBFOLDER, statstype='turb')\n"
   ],
   "id": "8f05f0eff26df962",
   "outputs": [],
   "execution_count": 2
  },
  {
   "metadata": {
    "ExecuteTime": {
     "end_time": "2024-11-07T10:26:59.548905Z",
     "start_time": "2024-11-07T10:26:59.528108Z"
    }
   },
   "cell_type": "code",
   "source": [
    "# isolate the tower clearance channel data\n",
    "# chan_df = df.filter_channel(113, 'DLL inp   5')\n",
    "chan_df = df.filter_channel(0, {0 :'DLL :  5 inpvec :   1  min. distance bladetips tower [m]'})\n",
    "\n",
    "# Filter rows where 'desc' column matches the specific name\n",
    "filtered_df = df[df['desc'] == 'DLL :  5 inpvec :   1  min. distance bladetips tower [m]']\n",
    "\n",
    "# Display the filtered dataframe\n",
    "# print(filtered_df)\n",
    "\n",
    "\n",
    "tower_clearance = filtered_df['min']\n",
    "# tower_clearance = chan_df_wtf['min']\n",
    "\n",
    "tower_clearance_array = np.array(tower_clearance)\n",
    "\n",
    "print(tower_clearance)\n",
    "\n",
    "\n",
    "# print(chan_df_wtf2['min'])\n",
    "\n",
    "# print(more_test_df['min'])\n",
    "\n",
    "# print(tower_clearance)\n",
    "\n",
    "# print(tower_clearance)"
   ],
   "id": "a7ea75753c947705",
   "outputs": [
    {
     "name": "stdout",
     "output_type": "stream",
     "text": [
      "112      15.085721\n",
      "225      16.257881\n",
      "338       9.425383\n",
      "451      14.884860\n",
      "564      12.245655\n",
      "           ...    \n",
      "13107    15.381344\n",
      "13220    12.933583\n",
      "13333    12.743143\n",
      "13446    13.920226\n",
      "13559     6.689560\n",
      "Name: min, Length: 120, dtype: float64\n"
     ]
    }
   ],
   "execution_count": 30
  },
  {
   "metadata": {
    "ExecuteTime": {
     "end_time": "2024-11-07T10:26:46.238292Z",
     "start_time": "2024-11-07T10:26:46.234309Z"
    }
   },
   "cell_type": "code",
   "source": "",
   "id": "55fd6401b50103f0",
   "outputs": [],
   "execution_count": 29
  },
  {
   "metadata": {},
   "cell_type": "code",
   "outputs": [],
   "execution_count": null,
   "source": "",
   "id": "cd3f1ac31ca4ef1d"
  }
 ],
 "metadata": {
  "kernelspec": {
   "display_name": "Python 3",
   "language": "python",
   "name": "python3"
  },
  "language_info": {
   "codemirror_mode": {
    "name": "ipython",
    "version": 2
   },
   "file_extension": ".py",
   "mimetype": "text/x-python",
   "name": "python",
   "nbconvert_exporter": "python",
   "pygments_lexer": "ipython2",
   "version": "2.7.6"
  }
 },
 "nbformat": 4,
 "nbformat_minor": 5
}
