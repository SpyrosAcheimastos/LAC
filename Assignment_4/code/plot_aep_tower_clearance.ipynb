{
 "cells": [
  {
   "cell_type": "code",
   "execution_count": 1,
   "id": "initial_id",
   "metadata": {
    "ExecuteTime": {
     "end_time": "2024-11-07T11:25:44.848040Z",
     "start_time": "2024-11-07T11:25:44.841475Z"
    },
    "collapsed": true
   },
   "outputs": [],
   "source": [
    "from lacbox.io import load_stats, load_oper\n",
    "import matplotlib.pyplot as plt\n",
    "import numpy as np\n",
    "from pathlib import Path\n",
    "\n",
    "BB_PATH = Path.cwd().parent / 'my_design/BB_neo_turb_stats.csv'  # path to mean steady stats\n",
    "STATS_PATH = Path.cwd().parent / 'dtu_10MW' / 'turb' / 'dtu_10mw_turb_stats.hdf5'  # path to mean steady stats\n",
    "SUBFOLDER = 'tcb' "
   ]
  },
  {
   "cell_type": "code",
   "execution_count": 2,
   "id": "8f05f0eff26df962",
   "metadata": {
    "ExecuteTime": {
     "end_time": "2024-11-07T11:25:45.187488Z",
     "start_time": "2024-11-07T11:25:44.864058Z"
    }
   },
   "outputs": [],
   "source": [
    "# load the HAWC2 data from the stats file. Isolate the simulations with no tilt.\n",
    "df, wsps = load_stats(STATS_PATH, subfolder=SUBFOLDER, statstype='turb')\n",
    "df_BB, wsps_BB = load_stats(BB_PATH, subfolder=SUBFOLDER, statstype='turb')\n",
    "\n",
    "SEEDS = 6\n",
    "\n"
   ]
  },
  {
   "cell_type": "code",
   "execution_count": 4,
   "id": "36dc4b04532ddfe1",
   "metadata": {
    "ExecuteTime": {
     "end_time": "2024-11-07T11:25:45.197711Z",
     "start_time": "2024-11-07T11:25:45.189496Z"
    }
   },
   "outputs": [],
   "source": [
    "def extract_and_order_statistics(wsps, chan_df, seeds):\n",
    "    \"\"\"\n",
    "    Extract and order:\n",
    "     - wsp, max, mean, min for the points\n",
    "     - wsp, mean_max, mean_mean, mean_min for the mean lines\n",
    "    \"\"\"\n",
    "\n",
    "    # extract hawc2 wind and channel to plot from the HAWC2 stats\n",
    "    val_wsp, val_max, val_mean, val_min = chan_df['wsp'], chan_df['max'], chan_df['mean'], chan_df['min']\n",
    "    val_wsp, val_max, val_mean, val_min = np.array(val_wsp), np.array(val_max), np.array(val_mean), np.array(val_min)\n",
    "    i_val = np.argsort(val_wsp)\n",
    "\n",
    "    # Get mean of max/mean/min\n",
    "    mean_max = np.average(val_max[i_val].reshape(-1, seeds), axis=1)\n",
    "    mean_mean = np.average(val_mean[i_val].reshape(-1, seeds), axis=1)\n",
    "    mean_min = np.average(val_min[i_val].reshape(-1, seeds), axis=1)\n",
    "\n",
    "    points = {\n",
    "        'wsp': val_wsp[i_val],\n",
    "        'max': val_max[i_val],\n",
    "        'mean': val_mean[i_val],\n",
    "        'min': val_min[i_val]\n",
    "    }\n",
    "\n",
    "    lines = {\n",
    "        'wsp': wsps,\n",
    "        'max': mean_max,\n",
    "        'mean': mean_mean,\n",
    "        'min': mean_min\n",
    "    }\n",
    "\n",
    "    return points, lines"
   ]
  },
  {
   "cell_type": "code",
   "execution_count": 100,
   "id": "6842e9d14b24be19",
   "metadata": {
    "ExecuteTime": {
     "end_time": "2024-11-07T11:25:45.204378Z",
     "start_time": "2024-11-07T11:25:45.200724Z"
    }
   },
   "outputs": [],
   "source": []
  },
  {
   "cell_type": "code",
   "execution_count": 5,
   "id": "a7ea75753c947705",
   "metadata": {
    "ExecuteTime": {
     "end_time": "2024-11-07T11:31:35.444816Z",
     "start_time": "2024-11-07T11:31:35.425845Z"
    }
   },
   "outputs": [
    {
     "name": "stdout",
     "output_type": "stream",
     "text": [
      "[14.35036659 11.99881935  9.2250185  13.32318497  7.91527271 11.19268703\n",
      " 14.25718212 11.41734695 15.41445255  8.59133148 10.96473885  8.31780148\n",
      " 12.36607933  8.32795238 13.98627949 10.48467922  9.02410507 15.16229534\n",
      " 15.04970264 14.51843262 13.15967751 12.65079594 14.66797161 11.98375607\n",
      " 11.19608593 15.99675655 13.49405861 10.54007149 14.0979023   8.93219376\n",
      " 12.0998888  13.28540134 12.67029953  8.66289711 16.40191078  8.51593018\n",
      " 14.08607864  8.45833969 13.99186802 14.36501503 15.13037395  8.32334232\n",
      " 11.71794701 10.81178474 11.35311508  8.92172527  9.81187344 11.00609875\n",
      " 15.36390209 14.13677979  8.79217911  7.84365797 13.41386127 10.39089108\n",
      "  8.84844398 11.0133419  11.02552032 12.02308655 12.28248787 13.55341148\n",
      " 11.48344612 13.20596695 13.67212391 14.80127716 13.94012833 12.61701298\n",
      " 12.81168079 13.83052826 10.1453886  14.2454834  14.75996113 14.84742928\n",
      " 14.37381077 15.45120335 15.07440758  9.71868706  8.99339199 15.8769474\n",
      " 13.46093273 10.76733303 12.64439106 13.98094749 10.39367199  9.27108097\n",
      " 11.07257366 14.91832447 13.95740318  8.53991032 13.69179726 15.72412014\n",
      " 13.87237167 12.5617485   8.71571159 13.09382439 11.98040962  9.95282555\n",
      " 14.38589096  8.36840153 13.06286907 11.56617165 11.48847294  8.77493095\n",
      " 14.70551682  8.20506859 10.06018925  9.06522083 13.9282608  10.05222416\n",
      " 12.46821404  9.3847332  11.24358082 11.92563534 14.16342163 15.58562183\n",
      "  9.10815239  9.74404812 13.62195396 13.73098087 15.35143757 10.02261639]\n",
      "7.843657970428467\n"
     ]
    }
   ],
   "source": [
    "# isolate the tower clearance channel data\n",
    "# chan_df = df.filter_channel(113, 'DLL inp   5')\n",
    "chan_df = df.filter_channel(0, {0 :'DLL :  5 inpvec :   1  min. distance bladetips tower [m]'})\n",
    "\n",
    "# Filter rows where 'desc' column matches the specific name\n",
    "filtered_df = df[df['desc'] == 'DLL :  5 inpvec :   1  min. distance bladetips tower [m]']\n",
    "\n",
    "# Display the filtered dataframe\n",
    "# print(filtered_df)\n",
    "\n",
    "\n",
    "tower_clearance = filtered_df['min']\n",
    "# tower_clearance = chan_df_wtf['min']\n",
    "\n",
    "\n",
    "tower_clearance_array = np.array(tower_clearance)\n",
    "\n",
    "print(tower_clearance_array)\n",
    "\n",
    "print(tower_clearance_array.min())\n"
   ]
  },
  {
   "cell_type": "code",
   "execution_count": 109,
   "id": "55fd6401b50103f0",
   "metadata": {
    "ExecuteTime": {
     "end_time": "2024-11-07T11:44:05.478410Z",
     "start_time": "2024-11-07T11:44:05.406339Z"
    }
   },
   "outputs": [
    {
     "name": "stdout",
     "output_type": "stream",
     "text": [
      "{'TbFA': 364297.47363281256, 'TbSS': 117720.31530761719, 'YbTilt': 54987.89062500001, 'YbRoll': 23907.457946777344, 'ShftTrs': -685.476744890213, 'OoPBRM': 27557.119445800785, 'IPBRM': 40770.70642089844}\n",
      "{'TbFA': -51051.62658691406, 'TbSS': -51982.17736816406, 'YbTilt': -38194.008178710945, 'YbRoll': 239.45605301856997, 'ShftTrs': -20365.171325683594, 'OoPBRM': -72275.13830566406, 'IPBRM': -27472.3678894043}\n",
      "{'TbFA': 96549.52281564193, 'TbSS': 12733.729012465428, 'YbTilt': 1867.128824448829, 'YbRoll': 9102.224890923591, 'ShftTrs': -8842.391787113766, 'OoPBRM': -15499.956871376378, 'IPBRM': 2753.3949561108216}\n",
      "{'TbFA': 364297.47363281256, 'TbSS': 117720.31530761719, 'YbTilt': 54987.89062500001, 'YbRoll': 23907.457946777344, 'ShftTrs': 20365.171325683594, 'OoPBRM': 72275.13830566406, 'IPBRM': 40770.70642089844}\n"
     ]
    }
   ],
   "source": [
    "CHAN_DESCS = {'TbFA': 'momentmx mbdy:tower nodenr:   1',\n",
    "              'TbSS': 'momentmy mbdy:tower nodenr:   1',\n",
    "              'YbTilt': 'momentmx mbdy:tower nodenr:  11',\n",
    "              'YbRoll': 'momentmy mbdy:tower nodenr:  11',\n",
    "              'ShftTrs': 'momentmz mbdy:shaft nodenr:   4',\n",
    "              'OoPBRM': 'momentmx mbdy:blade1 nodenr:   1 coo: hub1',\n",
    "              'IPBRM': 'momentmy mbdy:blade1 nodenr:   1 coo: hub1',\n",
    "              'FlpBRM': 'momentmx mbdy:blade1 nodenr:   1 coo: blade1',\n",
    "              'EdgBRM': 'momentmy mbdy:blade1 nodenr:   1 coo: blade1',\n",
    "              'OoPHub': 'momentmx mbdy:hub1 nodenr:   1 coo: hub1',\n",
    "              'IPHub': 'momentmy mbdy:hub1 nodenr:   1 coo: hub1',\n",
    "              }\n",
    "\n",
    "# what channels we want to plot\n",
    "chan_ids = ['TbFA', 'TbSS',\n",
    "            'YbTilt', 'YbRoll', 'ShftTrs', 'OoPBRM', 'IPBRM']\n",
    "\n",
    "max_dict = {}\n",
    "min_dict = {}\n",
    "mean_dict = {}\n",
    "for iplot, chan_id in enumerate(chan_ids):\n",
    "    \n",
    "    chan_df = df.filter_channel(chan_id, CHAN_DESCS)\n",
    "    \n",
    "    # Doing this works for all channel, but not the tip clearance, because f me\n",
    "    # channel_wsp = chan_df['wsp']\n",
    "    # channel_max = chan_df['max']\n",
    "    # channel_min = chan_df['min']\n",
    "    # channel_mean = chan_df['mean']\n",
    "    \n",
    "    points_BB, lines_BB = extract_and_order_statistics(wsps_BB, chan_df, SEEDS)\n",
    "    \n",
    "    max_val = np.array(lines_BB['max']).max()\n",
    "    min_val = np.array(lines_BB['min']).min()\n",
    "    mean_val = np.array(lines_BB['mean']).mean()\n",
    "    \n",
    "    # max_val = np.array(channel_mean).max()\n",
    "    max_dict[chan_id]  =  max_val * 1.35 * 1.25\n",
    "    min_dict[chan_id]  =  min_val * 1.35 * 1.25\n",
    "    mean_dict[chan_id] = mean_val\n",
    "\n",
    "print(max_dict)\n",
    "print(min_dict)\n",
    "print(mean_dict)\n",
    "\n",
    "\n",
    "# Initialize the new dictionary for absolute maximum values\n",
    "absolute_max_dict = {}\n",
    "\n",
    "# Loop through each key in max_dict (assuming keys in max_dict and min_dict are identical)\n",
    "for key in max_dict.keys():\n",
    "    # Calculate the absolute maximum value between max_dict and min_dict for each key\n",
    "    absolute_max_dict[key] = max(abs(max_dict[key]), abs(min_dict[key]))\n",
    "\n",
    "# Print the resulting dictionary with absolute maximum values\n",
    "print(absolute_max_dict)\n"
   ]
  },
  {
   "cell_type": "code",
   "execution_count": null,
   "id": "bf1099b6cbd1cf99",
   "metadata": {},
   "outputs": [],
   "source": []
  }
 ],
 "metadata": {
  "kernelspec": {
   "display_name": "base",
   "language": "python",
   "name": "python3"
  },
  "language_info": {
   "codemirror_mode": {
    "name": "ipython",
    "version": 3
   },
   "file_extension": ".py",
   "mimetype": "text/x-python",
   "name": "python",
   "nbconvert_exporter": "python",
   "pygments_lexer": "ipython3",
   "version": "3.11.7"
  }
 },
 "nbformat": 4,
 "nbformat_minor": 5
}
